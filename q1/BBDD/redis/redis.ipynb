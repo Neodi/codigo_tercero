{
 "cells": [
  {
   "cell_type": "code",
   "execution_count": null,
   "id": "812f36d7-a4f3-4b1e-9cb4-e948743c7df1",
   "metadata": {},
   "outputs": [],
   "source": [
    "!"
   ]
  },
  {
   "cell_type": "code",
   "execution_count": 2,
   "id": "b68527e5-2005-4032-855b-01d1e17b5cf0",
   "metadata": {},
   "outputs": [],
   "source": [
    "import redis\n",
    "\n",
    "# manchuria"
   ]
  },
  {
   "cell_type": "code",
   "execution_count": null,
   "id": "f86014cc-dae4-40a2-ae43-8f0b6fe3f74c",
   "metadata": {},
   "outputs": [],
   "source": []
  }
 ],
 "metadata": {
  "kernelspec": {
   "display_name": "Python 3 (ipykernel)",
   "language": "python",
   "name": "python3"
  },
  "language_info": {
   "codemirror_mode": {
    "name": "ipython",
    "version": 3
   },
   "file_extension": ".py",
   "mimetype": "text/x-python",
   "name": "python",
   "nbconvert_exporter": "python",
   "pygments_lexer": "ipython3",
   "version": "3.11.5"
  }
 },
 "nbformat": 4,
 "nbformat_minor": 5
}
