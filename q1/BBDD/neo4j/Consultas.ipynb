{
 "cells": [
  {
   "cell_type": "code",
   "execution_count": 60,
   "id": "3d3e6dab-4640-4fef-b092-ff2a00b9f87c",
   "metadata": {},
   "outputs": [
    {
     "name": "stderr",
     "output_type": "stream",
     "text": [
      "Failed to write data to connection IPv4Address(('localhost', 7687)) (ResolvedIPv4Address(('127.0.0.1', 7687)))\n"
     ]
    }
   ],
   "source": [
    "from neo4j import GraphDatabase\n",
    "\n",
    "class Neo4jConnection:\n",
    "    \n",
    "    def __init__(self, uri, user, pwd):\n",
    "        self.__uri = uri\n",
    "        self.__user = user\n",
    "        self.__password = pwd\n",
    "        self.__driver = None\n",
    "        try:\n",
    "            self.__driver = GraphDatabase.driver(self.__uri, auth=(self.__user, self.__password))\n",
    "        except Exception as e:\n",
    "            print(\"Failed to create the driver:\", e)\n",
    "        \n",
    "    def close(self):\n",
    "        if self.__driver is not None:\n",
    "            self.__driver.close()\n",
    "        \n",
    "    def query(self, query, parameters=None, db=None):\n",
    "        assert self.__driver is not None, \"Driver not initialized!\"\n",
    "        session = None\n",
    "        response = None\n",
    "        try: \n",
    "            session = self.__driver.session(database=db) if db is not None else self.__driver.session() \n",
    "            response = list(session.run(query, parameters))\n",
    "        except Exception as e:\n",
    "            print(\"Query failed:\", e)\n",
    "        finally: \n",
    "            if session is not None:\n",
    "                session.close()\n",
    "        return response\n",
    "\n",
    "# Conectar a la base de datos\n",
    "conn = Neo4jConnection(uri=\"bolt://localhost:7687\", user=\"neo4j\", pwd=\"qwer1234\")\n",
    "\n"
   ]
  },
  {
   "cell_type": "markdown",
   "id": "3b14bc9d-ed55-4158-b8bf-1c9ab520e4cf",
   "metadata": {},
   "source": [
    "### Q1\n",
    "Obtener los amigos y familiares de un usuario determinado."
   ]
  },
  {
   "cell_type": "code",
   "execution_count": 61,
   "id": "a0228674-e6ab-425b-983a-e7757dd976dc",
   "metadata": {},
   "outputs": [
    {
     "name": "stdout",
     "output_type": "stream",
     "text": [
      "Romeo_Santos\n",
      "Belen\n",
      "Dante\n",
      "Elvira\n"
     ]
    }
   ],
   "source": [
    "nombre_usuario = \"Juan_Alberto\"\n",
    "query = \"\"\"\n",
    "MATCH (p:Persona {nombre: $nombre})-[:FAMILIA|AMIGO]-(relacionado)\n",
    "RETURN DISTINCT relacionado.nombre AS Nombre\n",
    "\"\"\"\n",
    "amigos_y_familiares = conn.query(query, parameters={'nombre': nombre_usuario})\n",
    "for persona in amigos_y_familiares:\n",
    "    print(persona[\"Nombre\"])"
   ]
  },
  {
   "cell_type": "markdown",
   "id": "45a9b861-6d82-4b2a-a41f-658940953e7b",
   "metadata": {},
   "source": [
    "### Q2\n",
    "Obtener los familiares de los familiares de un usuario determinado."
   ]
  },
  {
   "cell_type": "code",
   "execution_count": 62,
   "id": "3f98ea46-65a8-4d61-ad54-beee613f88ba",
   "metadata": {},
   "outputs": [
    {
     "name": "stdout",
     "output_type": "stream",
     "text": [
      "Estéfano\n",
      "Julieta\n",
      "Alessandra\n"
     ]
    }
   ],
   "source": [
    "query = \"\"\"\n",
    "MATCH (p:Persona {nombre: $nombre})-[:FAMILIA]->(familiar)-[:FAMILIA]->(familiar_de_familiar)\n",
    "RETURN DISTINCT familiar_de_familiar.nombre AS Nombre\n",
    "\"\"\"\n",
    "familiares_de_familiares = conn.query(query, parameters={'nombre': nombre_usuario})\n",
    "for persona in familiares_de_familiares:\n",
    "    print(persona[\"Nombre\"])"
   ]
  },
  {
   "cell_type": "markdown",
   "id": "b54046ae-1ef2-4e53-90dc-7499ed68b898",
   "metadata": {},
   "source": [
    "### Q3\n",
    "Obtener todos los mensajes enviados de un usuario determinado a otro usuario\n",
    "determinado después de una fecha especificada."
   ]
  },
  {
   "cell_type": "code",
   "execution_count": 63,
   "id": "88d86140-1760-4f2e-86fb-5ad926423fd5",
   "metadata": {},
   "outputs": [
    {
     "name": "stdout",
     "output_type": "stream",
     "text": [
      "Mensaje: Te iba a invitar a mi casa pero no pasa nada jaja, Fecha: 2023-01-12T13:02:21.000000000+00:00\n"
     ]
    }
   ],
   "source": [
    "nombre_remitente = 'Estéfano'\n",
    "nombre_destinatario = 'Dante'\n",
    "fecha_especificada = '2023-01-12T13:02:21Z'\n",
    "\n",
    "query_mensajes_personalizada = \"\"\"\n",
    "MATCH (remitente:Persona {nombre: $nombre_remitente})-[conversa:CONVERSA]-(destinatario:Persona {nombre: $nombre_destinatario})\n",
    "WHERE conversa.timestamp >= datetime($fecha_especificada)\n",
    "RETURN conversa\n",
    "\"\"\"\n",
    "\n",
    "mensajes_despues_fecha = conn.query(query_mensajes_personalizada, parameters={\n",
    "    'nombre_remitente': nombre_remitente,\n",
    "    'nombre_destinatario': nombre_destinatario,\n",
    "    'fecha_especificada': fecha_especificada\n",
    "})\n",
    "\n",
    "for conversa in mensajes_despues_fecha:\n",
    "    print(f\"Mensaje: {conversa['conversa']['mensaje']}, Fecha: {conversa['conversa']['timestamp']}\")"
   ]
  },
  {
   "cell_type": "markdown",
   "id": "bf21c769-916d-47a7-8491-ef41c1ba5cf2",
   "metadata": {},
   "source": [
    "### Q4\n",
    "Obtener la conversación completa entre dos usuarios determinados."
   ]
  },
  {
   "cell_type": "code",
   "execution_count": 64,
   "id": "29a60823-c847-4430-b271-f12c5ab5ef06",
   "metadata": {},
   "outputs": [
    {
     "name": "stdout",
     "output_type": "stream",
     "text": [
      "{'Hey Dante, que tal estas?'}\n",
      "{'Hola estefano, voy liadisimo con un trabajo de BBDD, tu que tal??'}\n",
      "{'Te iba a invitar a mi casa pero no pasa nada jaja'}\n"
     ]
    }
   ],
   "source": [
    "nombre_remitente = \"Estéfano\"\n",
    "nombre_destinatario = \"Dante\"\n",
    "\n",
    "query_conversacion_completa = \"\"\"\n",
    "MATCH (remitente:Persona {nombre: $nombre_remitente})-[conversa:CONVERSA]-(destinatario:Persona {nombre: $nombre_destinatario})\n",
    "RETURN conversa.fecha_conversacion AS Fecha, conversa.mensaje AS Mensaje\n",
    "ORDER BY conversa.fecha_conversacion\n",
    "\"\"\"\n",
    "\n",
    "conversacion_completa = conn.query(query_conversacion_completa, parameters={\n",
    "    'nombre_remitente': nombre_remitente,\n",
    "    'nombre_destinatario': nombre_destinatario\n",
    "})\n",
    "\n",
    "for registro in conversacion_completa:\n",
    "    mensaje = registro['Mensaje']\n",
    "    print({mensaje})"
   ]
  },
  {
   "cell_type": "markdown",
   "id": "ea4f9d02-fa1d-4f34-978d-5e2f424c1d99",
   "metadata": {},
   "source": [
    "### Q5\n",
    "Obtener todos los usuarios mencionados por un usuario determinado los cuales\n",
    "tengan una relación laboral con el usuario que los mencionó."
   ]
  },
  {
   "cell_type": "code",
   "execution_count": 65,
   "id": "4f8d5ed2-1dba-42af-b143-19bf1599e652",
   "metadata": {},
   "outputs": [
    {
     "name": "stdout",
     "output_type": "stream",
     "text": [
      "Estéfano\n",
      "Alessandra\n"
     ]
    }
   ],
   "source": [
    "nombre_usuario = \"Romeo_Santos\"\n",
    "\n",
    "query_usuarios_mencionados = \"\"\"\n",
    "MATCH (usuario:Persona {nombre: $nombre_usuario})-[:PUBLICA]->(publicacion:Publicacion)-[:MENCIONA]->(mencionado:Persona),\n",
    "      (usuario)-[:TRABAJA|TRABAJABA]->(empresa:Empresa)<-[:TRABAJA|TRABAJABA]-(mencionado)\n",
    "RETURN DISTINCT mencionado.nombre AS UsuarioMencionado\n",
    "\"\"\"\n",
    "\n",
    "usuarios_mencionados = conn.query(query_usuarios_mencionados, parameters={\n",
    "    'nombre_usuario': nombre_usuario\n",
    "})\n",
    "\n",
    "for usuario in usuarios_mencionados:\n",
    "    print(usuario['UsuarioMencionado'])"
   ]
  },
  {
   "cell_type": "markdown",
   "id": "c8317473-9ae8-408c-a414-949f8027b051",
   "metadata": {},
   "source": [
    "### Q6\n",
    "Obtener los usuarios (terceros) que, no teniendo relación con un usuario\n",
    "determinado (primero), tengan alguna relación en uno o varios saltos de relación\n",
    "con los usuarios (segundos) que tienen relación con el usuario determinado. Se\n",
    "podrá definir el número de saltos máximo en la consulta. En la consulta se\n",
    "mostrará el usuario segundo del que parte la relación con los terceros y el\n",
    "número de saltos de relación entre dichos usuarios y se ordenará por número de\n",
    "saltos"
   ]
  },
  {
   "cell_type": "code",
   "execution_count": 66,
   "id": "2a77ffe1-0d1b-49bf-9fc9-5e10f3f73a09",
   "metadata": {},
   "outputs": [
    {
     "name": "stdout",
     "output_type": "stream",
     "text": [
      "Usuario Tercero: Juan_Alberto\n",
      "Usuario Tercero: Belen\n",
      "Usuario Tercero: Elvira\n",
      "Usuario Tercero: Orslok\n",
      "Usuario Tercero: Romeo_Santos\n",
      "Usuario Tercero: Julieta\n",
      "Usuario Tercero: Estéfano\n",
      "Usuario Tercero: Alessandra\n"
     ]
    }
   ],
   "source": [
    "nombre_usuario = \"Luis\"\n",
    "numero_saltos = 3  # Al estar usando expresion regular para el num saltos, usamos f y {} en vez del $\n",
    "\n",
    "query_usuarios_terceros = f\"\"\"\n",
    "MATCH (usuario_primero:Persona {{nombre: '{nombre_usuario}'}})\n",
    "MATCH camino=(usuario_primero)-[*{numero_saltos}]-(usuario_tercero:Persona)\n",
    "WHERE NOT (usuario_primero)-[]-(usuario_tercero) AND usuario_primero <> usuario_tercero\n",
    "RETURN DISTINCT usuario_tercero.nombre AS UsuarioTercero\n",
    "\"\"\"\n",
    "\n",
    "usuarios_terceros = conn.query(query_usuarios_terceros)\n",
    "\n",
    "for registro in usuarios_terceros:\n",
    "    print(f\"Usuario Tercero: {registro['UsuarioTercero']}\")"
   ]
  },
  {
   "cell_type": "markdown",
   "id": "4be0c73a-f150-4d5c-9243-b016a25ae310",
   "metadata": {},
   "source": [
    "### Q7\n",
    "Obtener los usuarios (terceros) que, no teniendo relación con un usuario\n",
    "determinado(primero), tengan alguna relación con los usuarios (segundos) que\n",
    "tienen relación con el usuario determinado. Solo se mostrarán las relaciones\n",
    "entre usuarios que tengan más de un número especificado de mensajes. Ordenar\n",
    "el resultado primero por el número de mensajes entre el primer usuario y los\n",
    "segundos y después por el número de mensajes entre segundos y los terceros"
   ]
  },
  {
   "cell_type": "code",
   "execution_count": 67,
   "id": "a73bd0e4-b06b-4f46-843b-377c1c4b3a0e",
   "metadata": {},
   "outputs": [
    {
     "name": "stdout",
     "output_type": "stream",
     "text": [
      "Usuario Segundo: Estéfano\n",
      "Usuario Tercero: Dante\n",
      "Número de Mensajes (Primero-Segundo): 2\n",
      "Número de Mensajes (Segundo-Tercero): 3\n"
     ]
    }
   ],
   "source": [
    "nombre_usuario = \"Alessandra\" \n",
    "numero_mensajes_minimo = 1  \n",
    "\n",
    "query = f\"\"\"\n",
    "MATCH (primero:Persona {{nombre: '{nombre_usuario}'}})-[r1:CONVERSA]-(segundo:Persona)\n",
    "WITH primero, segundo, COUNT(r1) AS numMensajesPrimeroSegundo\n",
    "WHERE numMensajesPrimeroSegundo > {numero_mensajes_minimo}\n",
    "MATCH (segundo)-[r2:CONVERSA]-(tercero:Persona)\n",
    "WHERE NOT (primero)-[:CONVERSA]-(tercero) AND primero <> tercero\n",
    "RETURN segundo.nombre AS UsuarioSegundo, tercero.nombre AS UsuarioTercero, numMensajesPrimeroSegundo, COUNT(r2) AS numMensajesSegundoTercero\n",
    "ORDER BY numMensajesPrimeroSegundo DESC, numMensajesSegundoTercero DESC\n",
    "\"\"\"\n",
    "\n",
    "resultados = conn.query(query)\n",
    "\n",
    "for resultado in resultados:\n",
    "    print(f\"Usuario Segundo: {resultado['UsuarioSegundo']}\\nUsuario Tercero: {resultado['UsuarioTercero']}\\n\"\n",
    "          f\"Número de Mensajes (Primero-Segundo): {resultado['numMensajesPrimeroSegundo']}\\n\"\n",
    "          f\"Número de Mensajes (Segundo-Tercero): {resultado['numMensajesSegundoTercero']}\")"
   ]
  },
  {
   "cell_type": "code",
   "execution_count": 68,
   "id": "269874c8-0988-4575-bb3e-4a8678aabf57",
   "metadata": {},
   "outputs": [],
   "source": [
    "conn.close()"
   ]
  }
 ],
 "metadata": {
  "kernelspec": {
   "display_name": "Python 3 (ipykernel)",
   "language": "python",
   "name": "python3"
  },
  "language_info": {
   "codemirror_mode": {
    "name": "ipython",
    "version": 3
   },
   "file_extension": ".py",
   "mimetype": "text/x-python",
   "name": "python",
   "nbconvert_exporter": "python",
   "pygments_lexer": "ipython3",
   "version": "3.11.5"
  }
 },
 "nbformat": 4,
 "nbformat_minor": 5
}
