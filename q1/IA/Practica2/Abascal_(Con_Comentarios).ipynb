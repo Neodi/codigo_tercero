{
 "cells": [
  {
   "cell_type": "code",
   "execution_count": 2,
   "metadata": {
    "colab": {
     "base_uri": "https://localhost:8080/"
    },
    "id": "8Uw5DP-fR2WB",
    "outputId": "56ee1cb0-880f-40fa-e545-b6844a52b1a0"
   },
   "outputs": [
    {
     "data": {
      "text/plain": [
       "\"\\nfrom google.colab import drive\\ndrive.mount('/content/drive')\\n\""
      ]
     },
     "execution_count": 2,
     "metadata": {},
     "output_type": "execute_result"
    }
   ],
   "source": [
    "'''\n",
    "from google.colab import drive\n",
    "drive.mount('/content/drive')\n",
    "'''"
   ]
  },
  {
   "cell_type": "code",
   "execution_count": 3,
   "metadata": {
    "colab": {
     "base_uri": "https://localhost:8080/"
    },
    "id": "1oBNGb6lSaTP",
    "outputId": "a12a9273-4f6b-4cf8-a10d-c9ce3375c6c0"
   },
   "outputs": [],
   "source": [
    "# !unzip /content/drive/MyDrive/*Utad/3ºAño/IA/Practicas_IA/Practica_2/intervenciones.zip"
   ]
  },
  {
   "cell_type": "markdown",
   "metadata": {
    "id": "uNI0etwlRcOJ"
   },
   "source": [
    "# Notebook 699: Tarea calificada 2, INAR 23-24\n",
    "\n",
    "## Generación de texto seq2seq model\n",
    "## A partir de textos de parlamentarios españoles (anteriores a 2022)"
   ]
  },
  {
   "cell_type": "markdown",
   "metadata": {
    "id": "uQR7U6-KRcOM"
   },
   "source": [
    "## Nota importante\n",
    "\n",
    "Esta tarea en su versión 2023-24 surge del excelente trabajo de varios compañeros del curso 2022-23, que aunque yo proporcioné un dataset de textos a partir de las intervenciones de parlamentarios (los líderes de varios partidos en 2021-22, alguno de los cuales ya no está en la política española), hicieron un extraordinario \"escrapeo\" de la web del Congreso de los Diputados y enriquecieron de forma notable el dataset. Este es el que propongo para esta tarea.\n",
    "\n",
    "Debo decir que si hay un texto (o lenguaje natural) libre de derechos y especialmente actual, son las intervenciones (estrictamente **públicas**) de los representantes elegidos en elecciones, y que el Congreso debería facilitar, no ya para su uso en estas tareas, sino para cualquier estudioso del español, o de la política, o de la psicología de los políticos.\n",
    "\n",
    "Por supuesto, esto son opiniones estrictamete mías, en el momento concreto en que las escribo, y sencillamente quiero hacer homenaje a los que colaboraron tanto con este trabajo que espero encontréis interesante."
   ]
  },
  {
   "cell_type": "markdown",
   "metadata": {
    "id": "UpAkNQVwRcOO"
   },
   "source": [
    "## ¿De qué trata esta tarea?\n",
    "\n",
    "Pues ni más ni menos que de generar texto en español a partir de texto de parlamentarios, basado en el tutorial que hemos seguido en clase:\n",
    "\n",
    "https://www.tensorflow.org/text/tutorials/text_generation?hl=es-419\n",
    "\n",
    "Para facilitar la tarea se propone un pre-proceso (basado en la tarea 2021-22), y la tarea se concreta en el modelo para generar texto y en las pruebas de la calidad del texto generado.\n"
   ]
  },
  {
   "cell_type": "markdown",
   "metadata": {
    "id": "cA3pSVS-RcOP"
   },
   "source": [
    "## Calificación\n",
    "\n",
    "Está explicada en la entrada correspondiente de Blackboard. Básicamente, hay un mínimo que consiste en proponer tres modelos de red recurrente, uno para cada parlamentario, entrenarlos, y **evaluarlos** generando texto y comentando su calidad.\n",
    "\n",
    "Para llegar a la máxima nota, propongo poner a dialogar los tres modelos.\n",
    "\n",
    "Pero por supuesto, valoraré el trabajo de construcción del modelo. Para esta tarea no hay una \"medida\" como la accuracy en la tarea 1. Será relativamente subjetiva. Por eso parece aconsejable comenzar con modelos pequeños o con pocas etapas e ir refinando."
   ]
  },
  {
   "cell_type": "markdown",
   "metadata": {
    "id": "srXC6pLGLwS6"
   },
   "source": [
    "## Setup\n",
    "\n",
    "Para facilitar la tarea propongo unas cuantas casillas para cargar en memoria los textos, tres .txt que están incluidos en un .zip.\n",
    "\n",
    "## Nota importante\n",
    "\n",
    "La codificación (juego de caracteres) es UTF-8 y creo que debe seguir siendo así. *NO* abráis los .txt con el Notepad de Windows, sino con el Notepad+++ que os permitiría cambiarlo o devolverlo a UTF-8 (o Unicode si queréis).\n",
    "\n",
    "A pesar que la salida por pantalla (en mi sistema, un Linux) de caracteres ñ y acentuados parece que está mal, luego la generación de texto (insisto, lo he comprobado en mi sistema) es correcta en español.\n"
   ]
  },
  {
   "cell_type": "markdown",
   "metadata": {
    "id": "WGyKZj3bzf9p"
   },
   "source": [
    "### Import TensorFlow and other libraries"
   ]
  },
  {
   "cell_type": "code",
   "execution_count": 4,
   "metadata": {
    "id": "yG_n40gFzf9s"
   },
   "outputs": [],
   "source": [
    "import tensorflow as tf\n",
    "import numpy as np\n",
    "import os\n",
    "import time\n",
    "import re\n",
    "import os\n"
   ]
  },
  {
   "cell_type": "markdown",
   "metadata": {
    "id": "EHDoRoc5PKWz"
   },
   "source": [
    "## Lectura de ficheros de datos"
   ]
  },
  {
   "cell_type": "code",
   "execution_count": 5,
   "metadata": {
    "id": "pD_55cOxLkAb"
   },
   "outputs": [],
   "source": [
    "datos_abascal   = \"intervencionesAbascal.txt\"\n",
    "datos_sanchez   = \"intervencionesSanchez.txt\"\n",
    "datos_casado    = \"intervencionesCasado.txt\""
   ]
  },
  {
   "cell_type": "markdown",
   "metadata": {
    "id": "UHjdCjDuSvX_"
   },
   "source": [
    "### Read the data\n",
    "\n",
    "First, look in the text:"
   ]
  },
  {
   "cell_type": "code",
   "execution_count": 6,
   "metadata": {
    "colab": {
     "base_uri": "https://localhost:8080/"
    },
    "id": "aavnuByVymwK",
    "outputId": "528fe234-f513-43b3-8b48-412a752dc3f6"
   },
   "outputs": [
    {
     "name": "stdout",
     "output_type": "stream",
     "text": [
      "Length of text: 22573 characters\n"
     ]
    }
   ],
   "source": [
    "# Read, then decode for py2 compat.\n",
    "text = open(datos_abascal, 'rb').read().decode(encoding='utf-8')\n",
    "# length of text is the number of characters in it\n",
    "print(f'Length of text: {len(text)} characters')"
   ]
  },
  {
   "cell_type": "code",
   "execution_count": 7,
   "metadata": {
    "colab": {
     "base_uri": "https://localhost:8080/"
    },
    "id": "Duhg9NrUymwO",
    "outputId": "c7811db3-2bcd-4355-8f1a-19d09bb1221d"
   },
   "outputs": [
    {
     "name": "stdout",
     "output_type": "stream",
     "text": [
      "Señor Sánchez, ¿cómo se atreve usted a hablarme de monólogos si siempre trae las respuestas escritas, si usted nunca contesta a mis preguntas? Conteste por lo menos hoy. ¿Qué va a hacer usted para impedir que VOX siga cruzando las líneas que dice ust\n"
     ]
    }
   ],
   "source": [
    "# Take a look at the first 250 characters in text\n",
    "print(text[:250])"
   ]
  },
  {
   "cell_type": "code",
   "execution_count": 8,
   "metadata": {
    "colab": {
     "base_uri": "https://localhost:8080/"
    },
    "id": "IlCgQBRVymwR",
    "outputId": "bcedeebe-af44-4cf1-9e32-e34c5dd5ee3a"
   },
   "outputs": [
    {
     "name": "stdout",
     "output_type": "stream",
     "text": [
      "81 unique characters\n"
     ]
    }
   ],
   "source": [
    "# The unique characters in the file\n",
    "vocab = sorted(set(text))\n",
    "print(f'{len(vocab)} unique characters')"
   ]
  },
  {
   "cell_type": "markdown",
   "metadata": {
    "id": "rNnrKn_lL-IJ"
   },
   "source": [
    "## Process the text"
   ]
  },
  {
   "cell_type": "markdown",
   "metadata": {
    "id": "LFjSVAlWzf-N"
   },
   "source": [
    "### Vectorize the text\n",
    "\n",
    "Before training, you need to convert the strings to a numerical representation.\n",
    "\n",
    "The `tf.keras.layers.StringLookup` layer can convert each character into a numeric ID. It just needs the text to be split into tokens first."
   ]
  },
  {
   "cell_type": "code",
   "execution_count": 9,
   "metadata": {
    "colab": {
     "base_uri": "https://localhost:8080/"
    },
    "id": "a86OoYtO01go",
    "outputId": "b4b72d58-da3e-45d5-9ca7-302fb0da5d4c"
   },
   "outputs": [
    {
     "data": {
      "text/plain": [
       "<tf.RaggedTensor [[b'a', b'b', b'c', b'd', b'e', b'f', b'g'], [b'x', b'y', b'z']]>"
      ]
     },
     "execution_count": 9,
     "metadata": {},
     "output_type": "execute_result"
    }
   ],
   "source": [
    "example_texts = ['abcdefg', 'xyz']\n",
    "\n",
    "chars = tf.strings.unicode_split(example_texts, input_encoding='UTF-8')\n",
    "chars"
   ]
  },
  {
   "cell_type": "markdown",
   "metadata": {
    "id": "1s4f1q3iqY8f"
   },
   "source": [
    "Now create the `tf.keras.layers.StringLookup` layer:"
   ]
  },
  {
   "cell_type": "code",
   "execution_count": 10,
   "metadata": {
    "id": "6GMlCe3qzaL9"
   },
   "outputs": [],
   "source": [
    "ids_from_chars = tf.keras.layers.StringLookup(\n",
    "    vocabulary=list(vocab), mask_token=None)"
   ]
  },
  {
   "cell_type": "markdown",
   "metadata": {
    "id": "ZmX_jbgQqfOi"
   },
   "source": [
    "It converts from tokens to character IDs:"
   ]
  },
  {
   "cell_type": "code",
   "execution_count": 11,
   "metadata": {
    "colab": {
     "base_uri": "https://localhost:8080/"
    },
    "id": "WLv5Q_2TC2pc",
    "outputId": "5b9efa2b-ffa1-473e-9a3b-48d19d34e31d"
   },
   "outputs": [
    {
     "data": {
      "text/plain": [
       "<tf.RaggedTensor [[44, 45, 46, 47, 48, 49, 50], [66, 67, 68]]>"
      ]
     },
     "execution_count": 11,
     "metadata": {},
     "output_type": "execute_result"
    }
   ],
   "source": [
    "ids = ids_from_chars(chars)\n",
    "ids"
   ]
  },
  {
   "cell_type": "markdown",
   "metadata": {
    "id": "tZfqhkYCymwX"
   },
   "source": [
    "Since the goal of this tutorial is to generate text, it will also be important to invert this representation and recover human-readable strings from it. For this you can use `tf.keras.layers.StringLookup(..., invert=True)`.  "
   ]
  },
  {
   "cell_type": "markdown",
   "metadata": {
    "id": "uenivzwqsDhp"
   },
   "source": [
    "Note: Here instead of passing the original vocabulary generated with `sorted(set(text))` use the `get_vocabulary()` method of the `tf.keras.layers.StringLookup` layer so that the `[UNK]` tokens is set the same way."
   ]
  },
  {
   "cell_type": "code",
   "execution_count": 12,
   "metadata": {
    "id": "Wd2m3mqkDjRj"
   },
   "outputs": [],
   "source": [
    "chars_from_ids = tf.keras.layers.StringLookup(\n",
    "    vocabulary=ids_from_chars.get_vocabulary(), invert=True, mask_token=None)"
   ]
  },
  {
   "cell_type": "markdown",
   "metadata": {
    "id": "pqTDDxS-s-H8"
   },
   "source": [
    "This layer recovers the characters from the vectors of IDs, and returns them as a `tf.RaggedTensor` of characters:"
   ]
  },
  {
   "cell_type": "code",
   "execution_count": 13,
   "metadata": {
    "colab": {
     "base_uri": "https://localhost:8080/"
    },
    "id": "c2GCh0ySD44s",
    "outputId": "0e690f6d-cea0-4e09-8fba-a5efa538e551"
   },
   "outputs": [
    {
     "data": {
      "text/plain": [
       "<tf.RaggedTensor [[b'a', b'b', b'c', b'd', b'e', b'f', b'g'], [b'x', b'y', b'z']]>"
      ]
     },
     "execution_count": 13,
     "metadata": {},
     "output_type": "execute_result"
    }
   ],
   "source": [
    "chars = chars_from_ids(ids)\n",
    "chars"
   ]
  },
  {
   "cell_type": "markdown",
   "metadata": {
    "id": "-FeW5gqutT3o"
   },
   "source": [
    "You can `tf.strings.reduce_join` to join the characters back into strings."
   ]
  },
  {
   "cell_type": "code",
   "execution_count": 14,
   "metadata": {
    "colab": {
     "base_uri": "https://localhost:8080/"
    },
    "id": "zxYI-PeltqKP",
    "outputId": "068edb7b-4bee-487b-852f-ffca5c749ec2"
   },
   "outputs": [
    {
     "data": {
      "text/plain": [
       "array([b'abcdefg', b'xyz'], dtype=object)"
      ]
     },
     "execution_count": 14,
     "metadata": {},
     "output_type": "execute_result"
    }
   ],
   "source": [
    "tf.strings.reduce_join(chars, axis=-1).numpy()"
   ]
  },
  {
   "cell_type": "code",
   "execution_count": 15,
   "metadata": {
    "id": "w5apvBDn9Ind"
   },
   "outputs": [],
   "source": [
    "def text_from_ids(ids):\n",
    "    return tf.strings.reduce_join(chars_from_ids(ids), axis=-1)"
   ]
  },
  {
   "cell_type": "markdown",
   "metadata": {
    "id": "bbmsf23Bymwe"
   },
   "source": [
    "### The prediction task"
   ]
  },
  {
   "cell_type": "markdown",
   "metadata": {
    "id": "wssHQ1oGymwe"
   },
   "source": [
    "Given a character, or a sequence of characters, what is the most probable next character? This is the task you're training the model to perform. The input to the model will be a sequence of characters, and you train the model to predict the output—the following character at each time step.\n",
    "\n",
    "Since RNNs maintain an internal state that depends on the previously seen elements, given all the characters computed until this moment, what is the next character?\n"
   ]
  },
  {
   "cell_type": "markdown",
   "metadata": {
    "id": "hgsVvVxnymwf"
   },
   "source": [
    "# Fases propuestas para la elaboración del modelo\n",
    "\n",
    "### 1. Create training examples and targets\n",
    "\n",
    "Next divide the text into example sequences. Each input sequence will contain `seq_length` characters from the text.\n",
    "\n",
    "For each input sequence, the corresponding targets contain the same length of text, except shifted one character to the right.\n",
    "\n",
    "So break the text into chunks of `seq_length+1`. For example, say `seq_length` is 4 and our text is \"Hello\". The input sequence would be \"Hell\", and the target sequence \"ello\".\n",
    "\n",
    "To do this first use the `tf.data.Dataset.from_tensor_slices` function to convert the text vector into a stream of character indices."
   ]
  },
  {
   "cell_type": "markdown",
   "metadata": {
    "id": "zScYHFOqb_Rl"
   },
   "source": [
    "Convierte un texto en una secuencia de IDs."
   ]
  },
  {
   "cell_type": "code",
   "execution_count": 16,
   "metadata": {
    "colab": {
     "base_uri": "https://localhost:8080/"
    },
    "id": "1XJeNidwRcOx",
    "outputId": "ca020f1a-9602-4a06-8fad-a271c6848efb"
   },
   "outputs": [
    {
     "data": {
      "text/plain": [
       "<tf.Tensor: shape=(22573,), dtype=int64, numpy=array([37, 48, 75, ..., 62,  6,  1], dtype=int64)>"
      ]
     },
     "execution_count": 16,
     "metadata": {},
     "output_type": "execute_result"
    }
   ],
   "source": [
    "all_ids = ids_from_chars(tf.strings.unicode_split(text, 'UTF-8'))\n",
    "all_ids"
   ]
  },
  {
   "cell_type": "markdown",
   "metadata": {
    "id": "f8T3MDGQcPZu"
   },
   "source": [
    "Crea un conjunto de datos TensorFlow a partir de una secuencia de IDs."
   ]
  },
  {
   "cell_type": "code",
   "execution_count": 17,
   "metadata": {
    "id": "GWfsUsqrRcOy"
   },
   "outputs": [],
   "source": [
    "ids_dataset = tf.data.Dataset.from_tensor_slices(all_ids)"
   ]
  },
  {
   "cell_type": "markdown",
   "metadata": {
    "id": "PdQSmrrychGg"
   },
   "source": [
    "Imprime los primeros 10 caracteres a partir de los IDs en el conjunto de datos."
   ]
  },
  {
   "cell_type": "code",
   "execution_count": 18,
   "metadata": {
    "colab": {
     "base_uri": "https://localhost:8080/"
    },
    "id": "zR2GJAIKRcOz",
    "outputId": "6e426314-49d0-4930-d287-ad07c5a501aa"
   },
   "outputs": [
    {
     "name": "stdout",
     "output_type": "stream",
     "text": [
      "S\n",
      "e\n",
      "ñ\n",
      "o\n",
      "r\n",
      " \n",
      "S\n",
      "á\n",
      "n\n",
      "c\n"
     ]
    }
   ],
   "source": [
    "for ids in ids_dataset.take(10):\n",
    "    print(chars_from_ids(ids).numpy().decode('utf-8'))"
   ]
  },
  {
   "cell_type": "markdown",
   "metadata": {
    "id": "_bP5idLfcqo-"
   },
   "source": [
    "Agrupa los IDs en secuencias de longitud 100"
   ]
  },
  {
   "cell_type": "code",
   "execution_count": 19,
   "metadata": {
    "id": "fGhSp5kmRcO0"
   },
   "outputs": [],
   "source": [
    "seq_length = 100"
   ]
  },
  {
   "cell_type": "code",
   "execution_count": 20,
   "metadata": {
    "colab": {
     "base_uri": "https://localhost:8080/"
    },
    "id": "Va6mqyWuRcO0",
    "outputId": "048a7ac7-cc1c-492f-abc3-6e16f8c1076b"
   },
   "outputs": [
    {
     "name": "stdout",
     "output_type": "stream",
     "text": [
      "tf.Tensor(\n",
      "[b'S' b'e' b'\\xc3\\xb1' b'o' b'r' b' ' b'S' b'\\xc3\\xa1' b'n' b'c' b'h' b'e'\n",
      " b'z' b',' b' ' b'\\xc2\\xbf' b'c' b'\\xc3\\xb3' b'm' b'o' b' ' b's' b'e' b' '\n",
      " b'a' b't' b'r' b'e' b'v' b'e' b' ' b'u' b's' b't' b'e' b'd' b' ' b'a'\n",
      " b' ' b'h' b'a' b'b' b'l' b'a' b'r' b'm' b'e' b' ' b'd' b'e' b' ' b'm'\n",
      " b'o' b'n' b'\\xc3\\xb3' b'l' b'o' b'g' b'o' b's' b' ' b's' b'i' b' ' b's'\n",
      " b'i' b'e' b'm' b'p' b'r' b'e' b' ' b't' b'r' b'a' b'e' b' ' b'l' b'a'\n",
      " b's' b' ' b'r' b'e' b's' b'p' b'u' b'e' b's' b't' b'a' b's' b' ' b'e'\n",
      " b's' b'c' b'r' b'i' b't' b'a' b's' b','], shape=(101,), dtype=string)\n"
     ]
    }
   ],
   "source": [
    "sequences = ids_dataset.batch(seq_length+1, drop_remainder=True)\n",
    "\n",
    "for seq in sequences.take(1):\n",
    "  print(chars_from_ids(seq))"
   ]
  },
  {
   "cell_type": "code",
   "execution_count": 21,
   "metadata": {
    "colab": {
     "base_uri": "https://localhost:8080/"
    },
    "id": "n6ElY7If8kVp",
    "outputId": "cebd0bcf-ee68-4a9d-ad24-4ba3dba1fe16"
   },
   "outputs": [
    {
     "name": "stdout",
     "output_type": "stream",
     "text": [
      "b'Se\\xc3\\xb1or S\\xc3\\xa1nchez, \\xc2\\xbfc\\xc3\\xb3mo se atreve usted a hablarme de mon\\xc3\\xb3logos si siempre trae las respuestas escritas,'\n",
      "b' si usted nunca contesta a mis preguntas? Conteste por lo menos hoy. \\xc2\\xbfQu\\xc3\\xa9 va a hacer usted para imped'\n",
      "b'ir que VOX siga cruzando las l\\xc3\\xadneas que dice usted que cruzamos? Conteste tambi\\xc3\\xa9n lo que no me ha con'\n",
      "b'testado durante toda esta legislatura: \\xc2\\xbfpor qu\\xc3\\xa9 minti\\xc3\\xb3 a los espa\\xc3\\xb1oles prometi\\xc3\\xa9ndoles que no pactar\\xc3\\xada'\n",
      "b' con estos, con esos y con aquellos?  Cont\\xc3\\xa9steme a eso y entonces no habr\\xc3\\xa1 mon\\xc3\\xb3logos, habr\\xc3\\xa1 di\\xc3\\xa1logo p'\n"
     ]
    }
   ],
   "source": [
    "for seq in sequences.take(5):\n",
    "  print(text_from_ids(seq).numpy())"
   ]
  },
  {
   "cell_type": "markdown",
   "metadata": {
    "id": "vQPaYOXEdDOF"
   },
   "source": [
    "Define una función que toma una secuencia y la divide en dos partes: una para la el \"input_text\" que excluye el último caracter, y otra para el objetivo \"target_text\" que excluye el primer elemento."
   ]
  },
  {
   "cell_type": "code",
   "execution_count": 22,
   "metadata": {
    "id": "ew-p59fsRcO1"
   },
   "outputs": [],
   "source": [
    "def split_input_target(sequence):\n",
    "    input_text = sequence[:-1]\n",
    "    target_text = sequence[1:]\n",
    "    return input_text, target_text"
   ]
  },
  {
   "cell_type": "code",
   "execution_count": 23,
   "metadata": {
    "colab": {
     "base_uri": "https://localhost:8080/"
    },
    "id": "iaPwzpZlRcO2",
    "outputId": "79a1452e-5477-4ba0-b651-68ebbfeffbe2"
   },
   "outputs": [
    {
     "data": {
      "text/plain": [
       "(['H', 'o', 'l'], ['o', 'l', 'a'])"
      ]
     },
     "execution_count": 23,
     "metadata": {},
     "output_type": "execute_result"
    }
   ],
   "source": [
    "split_input_target(list(\"Hola\"))"
   ]
  },
  {
   "cell_type": "markdown",
   "metadata": {
    "id": "caggCbxldgx0"
   },
   "source": [
    "Aplica la función split_input_target a cada secuencia en el conjunto de datos sequences, creando \"dataset\" que contiene tuplas entrada-objetivo."
   ]
  },
  {
   "cell_type": "code",
   "execution_count": 24,
   "metadata": {
    "id": "uD34on3YRcO3"
   },
   "outputs": [],
   "source": [
    "dataset = sequences.map(split_input_target)"
   ]
  },
  {
   "cell_type": "code",
   "execution_count": 25,
   "metadata": {
    "colab": {
     "base_uri": "https://localhost:8080/"
    },
    "id": "ExAhDnGQRcO4",
    "outputId": "1c10dddc-699f-4f2a-988f-a6c3f831d37a"
   },
   "outputs": [
    {
     "name": "stdout",
     "output_type": "stream",
     "text": [
      "Input : b'Se\\xc3\\xb1or S\\xc3\\xa1nchez, \\xc2\\xbfc\\xc3\\xb3mo se atreve usted a hablarme de mon\\xc3\\xb3logos si siempre trae las respuestas escritas'\n",
      "Target: b'e\\xc3\\xb1or S\\xc3\\xa1nchez, \\xc2\\xbfc\\xc3\\xb3mo se atreve usted a hablarme de mon\\xc3\\xb3logos si siempre trae las respuestas escritas,'\n"
     ]
    }
   ],
   "source": [
    "for input_example, target_example in dataset.take(1):\n",
    "    print(\"Input :\", text_from_ids(input_example).numpy())\n",
    "    print(\"Target:\", text_from_ids(target_example).numpy())"
   ]
  },
  {
   "cell_type": "markdown",
   "metadata": {
    "id": "MJdfPmdqzf-R"
   },
   "source": [
    "### 2. Create training batches\n",
    "\n",
    "You used `tf.data` to split the text into manageable sequences. But before feeding this data into the model, you need to shuffle the data and pack it into batches."
   ]
  },
  {
   "cell_type": "markdown",
   "metadata": {
    "id": "9GBcNkqjd1L2"
   },
   "source": []
  },
  {
   "cell_type": "code",
   "execution_count": 26,
   "metadata": {
    "colab": {
     "base_uri": "https://localhost:8080/"
    },
    "id": "p_zFyZ2CRcO5",
    "outputId": "54b282a2-5f22-4202-e770-9e0d60250552"
   },
   "outputs": [
    {
     "data": {
      "text/plain": [
       "<_PrefetchDataset element_spec=(TensorSpec(shape=(64, 100), dtype=tf.int64, name=None), TensorSpec(shape=(64, 100), dtype=tf.int64, name=None))>"
      ]
     },
     "execution_count": 26,
     "metadata": {},
     "output_type": "execute_result"
    }
   ],
   "source": [
    "# Batch size\n",
    "BATCH_SIZE = 64\n",
    "\n",
    "# Buffer size to shuffle the dataset\n",
    "# (TF data is designed to work with possibly infinite sequences,\n",
    "# so it doesn't attempt to shuffle the entire sequence in memory. Instead,\n",
    "# it maintains a buffer in which it shuffles elements).\n",
    "BUFFER_SIZE = 10000\n",
    "\n",
    "dataset = (\n",
    "    dataset\n",
    "    .shuffle(BUFFER_SIZE)\n",
    "    \n",
    "    .batch(BATCH_SIZE, drop_remainder=True)\n",
    "    .prefetch(tf.data.experimental.AUTOTUNE))\n",
    "\n",
    "dataset"
   ]
  },
  {
   "cell_type": "markdown",
   "metadata": {
    "id": "r6oUuElIMgVx"
   },
   "source": [
    "## 3. Build The Model\n",
    "\n",
    "Puedes usar cualquiera de los modelos (RNN, LSTM, GRU) que hemos visto en clase. Por supuesto, del tamaño del modelo (capas, neuronas en cada capa) así como de las épocas (más adelante) dependerá el tiempo de proceso en el .fit"
   ]
  },
  {
   "cell_type": "markdown",
   "metadata": {
    "id": "V0--k3axeBD1"
   },
   "source": [
    "\n"
   ]
  },
  {
   "cell_type": "code",
   "execution_count": 27,
   "metadata": {
    "id": "m8gPwEjRzf-Z"
   },
   "outputs": [],
   "source": [
    "# Length of the vocabulary in StringLookup Layer\n",
    "vocab_size = len(ids_from_chars.get_vocabulary())\n",
    "\n",
    "# The embedding dimension\n",
    "embedding_dim = 256\n",
    "\n",
    "# Number of RNN units\n",
    "rnn_units = 1024"
   ]
  },
  {
   "cell_type": "markdown",
   "metadata": {
    "id": "V6Cq6-p-ehwc"
   },
   "source": [
    "MyModel se utiliza para definir un modelo de lenguaje recurrente (RNN) básico en TensorFlow usando Keras. Este tipo de modelo se suele utilizar para tareas relacionadas con el procesamiento de lenguaje natural, en este caso, de generación de texto."
   ]
  },
  {
   "cell_type": "code",
   "execution_count": 28,
   "metadata": {
    "id": "QJIa04AY9mv2"
   },
   "outputs": [],
   "source": [
    "class MyModel(tf.keras.Model):\n",
    "  def __init__(self, vocab_size, embedding_dim, rnn_units):\n",
    "    super().__init__(self)\n",
    "    self.embedding = tf.keras.layers.Embedding(vocab_size, embedding_dim)\n",
    "    self.gru = tf.keras.layers.GRU(rnn_units,\n",
    "                                   return_sequences=True,\n",
    "                                   return_state=True)\n",
    "    self.dense = tf.keras.layers.Dense(vocab_size)\n",
    "\n",
    "  def call(self, inputs, states=None, return_state=False, training=False):\n",
    "    x = inputs\n",
    "    x = self.embedding(x, training=training)\n",
    "    if states is None:\n",
    "      states = self.gru.get_initial_state(x)\n",
    "    x, states = self.gru(x, initial_state=states, training=training)\n",
    "    x = self.dense(x, training=training)\n",
    "\n",
    "    if return_state:\n",
    "      return x, states\n",
    "    else:\n",
    "      return x"
   ]
  },
  {
   "cell_type": "markdown",
   "metadata": {
    "id": "FXQpe4WBel4m"
   },
   "source": [
    " Crea un modelo con el vocab_size, embedding_dim y las RNN_units especificados anteriormente.\n"
   ]
  },
  {
   "cell_type": "code",
   "execution_count": 29,
   "metadata": {
    "id": "PACcP_TX9pyQ"
   },
   "outputs": [],
   "source": [
    "model = MyModel(\n",
    "    vocab_size=vocab_size,\n",
    "    embedding_dim=embedding_dim,\n",
    "    rnn_units=rnn_units)"
   ]
  },
  {
   "cell_type": "code",
   "execution_count": 30,
   "metadata": {
    "colab": {
     "base_uri": "https://localhost:8080/"
    },
    "id": "uSUlOggg9w6A",
    "outputId": "e8f52930-8f59-47bd-d7d2-2181bc975806"
   },
   "outputs": [
    {
     "name": "stdout",
     "output_type": "stream",
     "text": [
      "(64, 100, 82) # (batch_size, sequence_length, vocab_size)\n"
     ]
    }
   ],
   "source": [
    "for input_example_batch, target_example_batch in dataset.take(1):\n",
    "    example_batch_predictions = model(input_example_batch)\n",
    "    print(example_batch_predictions.shape, \"# (batch_size, sequence_length, vocab_size)\")"
   ]
  },
  {
   "cell_type": "markdown",
   "metadata": {
    "id": "-ubPo0_9Prjb"
   },
   "source": [
    "## 4. Summary y fit del modelo\n",
    "\n"
   ]
  },
  {
   "cell_type": "markdown",
   "metadata": {
    "id": "IxdOA-rgyGvs"
   },
   "source": [
    "Aconsejable el uso de GPU en Google Colab, aunque yo he conseguido hacer 200 épocas de mi modelo en un tiempo razonable (menos de 1 hora).\n",
    "\n",
    "**RECUERDA GRABAR EL MODELO ENTRENADO PARA PODER REUTILIZARLO POSTERIORMENTE**"
   ]
  },
  {
   "cell_type": "markdown",
   "metadata": {
    "id": "DNb3jfebfnFp"
   },
   "source": [
    "El modelo consta de tres capas: embedding, gru (unidad de recurrencia), y dense (densa). La capa de embedding tiene 20,992 parámetros, la capa gru tiene 3,938,304 parámetros, y la capa dense tiene 84,050 parámetros. En total, el modelo tiene 4,043,346 parámetros entrenables."
   ]
  },
  {
   "cell_type": "code",
   "execution_count": 31,
   "metadata": {
    "colab": {
     "base_uri": "https://localhost:8080/"
    },
    "id": "lG6y-qBkRcO9",
    "outputId": "7c48c70a-a0ac-4003-f259-d41d4f652729"
   },
   "outputs": [
    {
     "name": "stdout",
     "output_type": "stream",
     "text": [
      "Model: \"my_model\"\n",
      "_________________________________________________________________\n",
      " Layer (type)                Output Shape              Param #   \n",
      "=================================================================\n",
      " embedding (Embedding)       multiple                  20992     \n",
      "                                                                 \n",
      " gru (GRU)                   multiple                  3938304   \n",
      "                                                                 \n",
      " dense (Dense)               multiple                  84050     \n",
      "                                                                 \n",
      "=================================================================\n",
      "Total params: 4043346 (15.42 MB)\n",
      "Trainable params: 4043346 (15.42 MB)\n",
      "Non-trainable params: 0 (0.00 Byte)\n",
      "_________________________________________________________________\n"
     ]
    }
   ],
   "source": [
    "model.summary()"
   ]
  },
  {
   "cell_type": "markdown",
   "metadata": {
    "id": "toWixCVSf_wg"
   },
   "source": [
    "-Embedding: Asocia a cada palabra un número.\n",
    "\n",
    "-GRU: Ayuda a entender cómo las palabras se relacionan entre sí a lo largo del texto, como entender el contexto en una conversación.\n",
    "\n",
    "-Dense: predice la próxima palabra en la secuencia de texto."
   ]
  },
  {
   "cell_type": "markdown",
   "metadata": {
    "id": "rtQ_WBNwg9RS"
   },
   "source": [
    "Genera índices de palabras muestreadas al azar a partir de las predicciones de un lote de ejemplos"
   ]
  },
  {
   "cell_type": "code",
   "execution_count": 32,
   "metadata": {
    "id": "XEc7X505RcO-"
   },
   "outputs": [],
   "source": [
    "sampled_indices = tf.random.categorical(example_batch_predictions[0], num_samples=1)\n",
    "sampled_indices = tf.squeeze(sampled_indices, axis=-1).numpy()"
   ]
  },
  {
   "cell_type": "code",
   "execution_count": 33,
   "metadata": {
    "colab": {
     "base_uri": "https://localhost:8080/"
    },
    "id": "aNvmOnXV-NdD",
    "outputId": "7f654309-cf84-41c2-bf54-a7835b892132"
   },
   "outputs": [
    {
     "data": {
      "text/plain": [
       "array([31, 78, 41, 12, 48, 12, 23, 34, 79, 42, 73, 17, 74, 43, 37, 81, 30,\n",
       "       27, 38, 80, 60, 12, 23, 64, 24, 79, 47, 57,  5, 22, 78, 58, 16, 21,\n",
       "       55, 38, 32, 76, 10, 36, 43, 81, 78, 31, 25, 49, 66, 29, 16, 21, 16,\n",
       "        5, 34, 76, 77, 38,  0, 10, 23, 77, 34, 45, 74, 61, 54, 30, 63, 24,\n",
       "       42, 53, 49, 51, 42, 12,  5, 42,  3,  5,  9,  2, 50, 18, 53, 27, 32,\n",
       "       39, 67, 76, 12, 72, 54, 76, 72, 32, 79, 41, 43, 35, 33, 22],\n",
       "      dtype=int64)"
      ]
     },
     "execution_count": 33,
     "metadata": {},
     "output_type": "execute_result"
    }
   ],
   "source": [
    "sampled_indices"
   ]
  },
  {
   "cell_type": "markdown",
   "metadata": {
    "id": "PWigiY3fhXN0"
   },
   "source": [
    "Imprime el texto correspondiente al primer ejemplo en el lote de entrada y las predicciones de la siguiente palabra generadas por el modelo"
   ]
  },
  {
   "cell_type": "code",
   "execution_count": 34,
   "metadata": {
    "colab": {
     "base_uri": "https://localhost:8080/"
    },
    "id": "HYcj9HtW-UfE",
    "outputId": "c4895e1e-e41b-4a65-ff98-2c260b6db558"
   },
   "outputs": [
    {
     "name": "stdout",
     "output_type": "stream",
     "text": [
      "Input:\n",
      " b'ar insultos y odio contra la oposici\\xc3\\xb3n, lo que no es raro porque tambi\\xc3\\xa9n han convertido el proceso e'\n",
      "\n",
      "Next Char Predictions:\n",
      " b'M\\xe2\\x80\\x8cX5e5DP\\xe2\\x80\\x94Y\\xc3\\xa9:\\xc3\\xadZS\\xe2\\x80\\xa6LHT\\xe2\\x80\\x95q5DuE\\xe2\\x80\\x94dn,C\\xe2\\x80\\x8co9BlTN\\xc3\\xb33RZ\\xe2\\x80\\xa6\\xe2\\x80\\x8cMFfxJ9B9,P\\xc3\\xb3\\xc3\\xbaT[UNK]3D\\xc3\\xbaPb\\xc3\\xadrkLtEYjfhY5,Y!,2 g;jHNUy\\xc3\\xb35\\xc3\\xa1k\\xc3\\xb3\\xc3\\xa1N\\xe2\\x80\\x94XZQOC'\n"
     ]
    }
   ],
   "source": [
    "print(\"Input:\\n\", text_from_ids(input_example_batch[0]).numpy())\n",
    "print()\n",
    "print(\"Next Char Predictions:\\n\", text_from_ids(sampled_indices).numpy())"
   ]
  },
  {
   "cell_type": "markdown",
   "metadata": {
    "id": "_2NpuUpHulM0"
   },
   "source": [
    " Función de pérdida"
   ]
  },
  {
   "cell_type": "code",
   "execution_count": 35,
   "metadata": {
    "id": "fC32NZTK-lkV"
   },
   "outputs": [],
   "source": [
    "loss = tf.losses.SparseCategoricalCrossentropy(from_logits=True)"
   ]
  },
  {
   "cell_type": "markdown",
   "metadata": {
    "id": "P12ap5dFu21J"
   },
   "source": [
    "Calcula la pérdida promedio del lote de ejemplos de entrenamiento."
   ]
  },
  {
   "cell_type": "code",
   "execution_count": 36,
   "metadata": {
    "colab": {
     "base_uri": "https://localhost:8080/"
    },
    "id": "fQ8Acfqu-nBX",
    "outputId": "70647583-e92e-4ff5-c0b1-6aab4f8bbd46"
   },
   "outputs": [
    {
     "name": "stdout",
     "output_type": "stream",
     "text": [
      "Prediction shape:  (64, 100, 82)  # (batch_size, sequence_length, vocab_size)\n",
      "Mean loss:         tf.Tensor(4.4052463, shape=(), dtype=float32)\n"
     ]
    }
   ],
   "source": [
    "example_batch_mean_loss = loss(target_example_batch, example_batch_predictions)\n",
    "print(\"Prediction shape: \", example_batch_predictions.shape, \" # (batch_size, sequence_length, vocab_size)\")\n",
    "print(\"Mean loss:        \", example_batch_mean_loss)"
   ]
  },
  {
   "cell_type": "code",
   "execution_count": 37,
   "metadata": {
    "colab": {
     "base_uri": "https://localhost:8080/"
    },
    "id": "XKu0XXDh-2kb",
    "outputId": "fd5a2c0f-9777-484a-cfe9-112ec32bd12c"
   },
   "outputs": [
    {
     "data": {
      "text/plain": [
       "81.8793"
      ]
     },
     "execution_count": 37,
     "metadata": {},
     "output_type": "execute_result"
    }
   ],
   "source": [
    "tf.exp(example_batch_mean_loss).numpy()"
   ]
  },
  {
   "cell_type": "code",
   "execution_count": 38,
   "metadata": {
    "id": "chV9LiYh-_R5"
   },
   "outputs": [],
   "source": [
    "model.compile(optimizer='adam', loss=loss)"
   ]
  },
  {
   "cell_type": "markdown",
   "metadata": {
    "id": "qmFv7Uucv0C7"
   },
   "source": [
    "Bloque para borrar el directorio ./training_checkpoints"
   ]
  },
  {
   "cell_type": "code",
   "execution_count": 39,
   "metadata": {
    "colab": {
     "base_uri": "https://localhost:8080/",
     "height": 52
    },
    "id": "aI_TM1iYBkOi",
    "outputId": "4c6126fb-7eb6-408e-ec57-6774f3eae615"
   },
   "outputs": [
    {
     "data": {
      "text/plain": [
       "\"\\nimport shutil\\nimport os\\n\\n# Directorio que acabamos de crear\\ndirectory_to_delete = './training_checkpoints'\\n\\n# Eliminar el directorio\\nshutil.rmtree(directory_to_delete)\\n\""
      ]
     },
     "execution_count": 39,
     "metadata": {},
     "output_type": "execute_result"
    }
   ],
   "source": [
    "\n",
    "'''\n",
    "import shutil\n",
    "import os\n",
    "\n",
    "# Directorio que acabamos de crear\n",
    "directory_to_delete = './training_checkpoints'\n",
    "\n",
    "# Eliminar el directorio\n",
    "shutil.rmtree(directory_to_delete)\n",
    "'''"
   ]
  },
  {
   "cell_type": "markdown",
   "metadata": {
    "id": "bXD8Sidkv-Y9"
   },
   "source": [
    "Crea un directorio donde se almacenarán los callbacks y se guarda un checkpoint cada 10 epocas"
   ]
  },
  {
   "cell_type": "code",
   "execution_count": 40,
   "metadata": {
    "colab": {
     "base_uri": "https://localhost:8080/"
    },
    "id": "UEO-y3Re_UBY",
    "outputId": "37a64cc4-6205-429f-c576-191d4f6252b7"
   },
   "outputs": [
    {
     "name": "stdout",
     "output_type": "stream",
     "text": [
      "WARNING:tensorflow:`period` argument is deprecated. Please use `save_freq` to specify the frequency in number of batches seen.\n"
     ]
    }
   ],
   "source": [
    "\n",
    "# Directory where the checkpoints will be saved\n",
    "checkpoint_dir = './training_checkpoints'\n",
    "\n",
    "# Name of the checkpoint files\n",
    "checkpoint_prefix = os.path.join(checkpoint_dir, \"ckpt_{epoch}\")\n",
    "\n",
    "checkpoint_callback = tf.keras.callbacks.ModelCheckpoint(\n",
    "    filepath=checkpoint_prefix,\n",
    "    save_weights_only=True,\n",
    "    period=10)"
   ]
  },
  {
   "cell_type": "code",
   "execution_count": 41,
   "metadata": {
    "id": "Oqdoxzn-_c2d"
   },
   "outputs": [],
   "source": [
    "EPOCHS = 400"
   ]
  },
  {
   "cell_type": "markdown",
   "metadata": {
    "id": "1fHC_NT3wMUn"
   },
   "source": [
    "Se entrena el modelo durante 400 épocas"
   ]
  },
  {
   "cell_type": "code",
   "execution_count": 42,
   "metadata": {
    "colab": {
     "base_uri": "https://localhost:8080/"
    },
    "id": "fs4AYVwd_iWq",
    "outputId": "ef0efb6a-f02a-4fcb-e4cc-32b979b80b47"
   },
   "outputs": [
    {
     "name": "stdout",
     "output_type": "stream",
     "text": [
      "Epoch 1/400\n",
      "3/3 [==============================] - 6s 1s/step - loss: 4.3519\n",
      "Epoch 2/400\n",
      "3/3 [==============================] - 4s 1s/step - loss: 4.5679\n",
      "Epoch 3/400\n",
      "3/3 [==============================] - 4s 1s/step - loss: 3.5808\n",
      "Epoch 4/400\n",
      "3/3 [==============================] - 4s 1s/step - loss: 3.5481\n",
      "Epoch 5/400\n",
      "3/3 [==============================] - 5s 2s/step - loss: 3.4287\n",
      "Epoch 6/400\n",
      "3/3 [==============================] - 6s 2s/step - loss: 3.2664\n",
      "Epoch 7/400\n",
      "3/3 [==============================] - 5s 2s/step - loss: 3.0814\n",
      "Epoch 8/400\n",
      "3/3 [==============================] - 4s 1s/step - loss: 3.0011\n",
      "Epoch 9/400\n",
      "3/3 [==============================] - 4s 1s/step - loss: 2.9712\n",
      "Epoch 10/400\n",
      "3/3 [==============================] - 6s 2s/step - loss: 2.8841\n",
      "Epoch 11/400\n",
      "3/3 [==============================] - 4s 1s/step - loss: 2.8442\n",
      "Epoch 12/400\n",
      "3/3 [==============================] - 4s 1s/step - loss: 2.8062\n",
      "Epoch 13/400\n",
      "3/3 [==============================] - 4s 1s/step - loss: 2.7471\n",
      "Epoch 14/400\n",
      "3/3 [==============================] - 4s 1s/step - loss: 2.6786\n",
      "Epoch 15/400\n",
      "3/3 [==============================] - 4s 1s/step - loss: 2.6282\n",
      "Epoch 16/400\n",
      "3/3 [==============================] - 4s 1s/step - loss: 2.5681\n",
      "Epoch 17/400\n",
      "3/3 [==============================] - 4s 1s/step - loss: 2.5226\n",
      "Epoch 18/400\n",
      "3/3 [==============================] - 4s 1s/step - loss: 2.4799\n",
      "Epoch 19/400\n",
      "3/3 [==============================] - 4s 1s/step - loss: 2.4387\n",
      "Epoch 20/400\n",
      "3/3 [==============================] - 4s 1s/step - loss: 2.4029\n",
      "Epoch 21/400\n",
      "3/3 [==============================] - 4s 1s/step - loss: 2.3768\n",
      "Epoch 22/400\n",
      "3/3 [==============================] - 5s 2s/step - loss: 2.3476\n",
      "Epoch 23/400\n",
      "3/3 [==============================] - 5s 2s/step - loss: 2.3230\n",
      "Epoch 24/400\n",
      "3/3 [==============================] - 4s 1s/step - loss: 2.2998\n",
      "Epoch 25/400\n",
      "3/3 [==============================] - 5s 2s/step - loss: 2.2822\n",
      "Epoch 26/400\n",
      "3/3 [==============================] - 4s 1s/step - loss: 2.2591\n",
      "Epoch 27/400\n",
      "3/3 [==============================] - 4s 1s/step - loss: 2.2447\n",
      "Epoch 28/400\n",
      "3/3 [==============================] - 4s 1s/step - loss: 2.2278\n",
      "Epoch 29/400\n",
      "3/3 [==============================] - 4s 1s/step - loss: 2.2126\n",
      "Epoch 30/400\n",
      "3/3 [==============================] - 4s 1s/step - loss: 2.1994\n",
      "Epoch 31/400\n",
      "3/3 [==============================] - 4s 1s/step - loss: 2.1813\n",
      "Epoch 32/400\n",
      "3/3 [==============================] - 4s 1s/step - loss: 2.1586\n",
      "Epoch 33/400\n",
      "3/3 [==============================] - 4s 1s/step - loss: 2.1359\n",
      "Epoch 34/400\n",
      "3/3 [==============================] - 4s 1s/step - loss: 2.1295\n",
      "Epoch 35/400\n",
      "3/3 [==============================] - 4s 1s/step - loss: 2.1211\n",
      "Epoch 36/400\n",
      "3/3 [==============================] - 4s 1s/step - loss: 2.1005\n",
      "Epoch 37/400\n",
      "3/3 [==============================] - 4s 1s/step - loss: 2.0818\n",
      "Epoch 38/400\n",
      "3/3 [==============================] - 4s 1s/step - loss: 2.0767\n",
      "Epoch 39/400\n",
      "3/3 [==============================] - 4s 1s/step - loss: 2.0579\n",
      "Epoch 40/400\n",
      "3/3 [==============================] - 4s 1s/step - loss: 2.0441\n",
      "Epoch 41/400\n",
      "3/3 [==============================] - 4s 1s/step - loss: 2.0427\n",
      "Epoch 42/400\n",
      "3/3 [==============================] - 4s 1s/step - loss: 2.0196\n",
      "Epoch 43/400\n",
      "3/3 [==============================] - 4s 1s/step - loss: 2.0073\n",
      "Epoch 44/400\n",
      "3/3 [==============================] - 4s 1s/step - loss: 1.9896\n",
      "Epoch 45/400\n",
      "3/3 [==============================] - 4s 1s/step - loss: 1.9772\n",
      "Epoch 46/400\n",
      "3/3 [==============================] - 4s 1s/step - loss: 1.9613\n",
      "Epoch 47/400\n",
      "3/3 [==============================] - 4s 1s/step - loss: 1.9468\n",
      "Epoch 48/400\n",
      "3/3 [==============================] - 4s 1s/step - loss: 1.9314\n",
      "Epoch 49/400\n",
      "3/3 [==============================] - 4s 1s/step - loss: 1.9046\n",
      "Epoch 50/400\n",
      "3/3 [==============================] - 4s 1s/step - loss: 1.9060\n",
      "Epoch 51/400\n",
      "3/3 [==============================] - 4s 1s/step - loss: 1.8919\n",
      "Epoch 52/400\n",
      "3/3 [==============================] - 4s 1s/step - loss: 1.8681\n",
      "Epoch 53/400\n",
      "3/3 [==============================] - 4s 1s/step - loss: 1.8631\n",
      "Epoch 54/400\n",
      "3/3 [==============================] - 4s 1s/step - loss: 1.8442\n",
      "Epoch 55/400\n",
      "3/3 [==============================] - 4s 1s/step - loss: 1.8282\n",
      "Epoch 56/400\n",
      "3/3 [==============================] - 4s 1s/step - loss: 1.8095\n",
      "Epoch 57/400\n",
      "3/3 [==============================] - 4s 1s/step - loss: 1.7914\n",
      "Epoch 58/400\n",
      "3/3 [==============================] - 4s 1s/step - loss: 1.7807\n",
      "Epoch 59/400\n",
      "3/3 [==============================] - 4s 1s/step - loss: 1.7513\n",
      "Epoch 60/400\n",
      "3/3 [==============================] - 4s 1s/step - loss: 1.7568\n",
      "Epoch 61/400\n",
      "3/3 [==============================] - 4s 1s/step - loss: 1.7289\n",
      "Epoch 62/400\n",
      "3/3 [==============================] - 4s 1s/step - loss: 1.7124\n",
      "Epoch 63/400\n",
      "3/3 [==============================] - 4s 1s/step - loss: 1.7044\n",
      "Epoch 64/400\n",
      "3/3 [==============================] - 4s 1s/step - loss: 1.6830\n",
      "Epoch 65/400\n",
      "3/3 [==============================] - 4s 1s/step - loss: 1.6623\n",
      "Epoch 66/400\n",
      "3/3 [==============================] - 4s 1s/step - loss: 1.6451\n",
      "Epoch 67/400\n",
      "3/3 [==============================] - 4s 1s/step - loss: 1.6346\n",
      "Epoch 68/400\n",
      "3/3 [==============================] - 4s 1s/step - loss: 1.6135\n",
      "Epoch 69/400\n",
      "3/3 [==============================] - 4s 1s/step - loss: 1.5909\n",
      "Epoch 70/400\n",
      "3/3 [==============================] - 4s 1s/step - loss: 1.5650\n",
      "Epoch 71/400\n",
      "3/3 [==============================] - 4s 1s/step - loss: 1.5542\n",
      "Epoch 72/400\n",
      "3/3 [==============================] - 4s 1s/step - loss: 1.5313\n",
      "Epoch 73/400\n",
      "3/3 [==============================] - 4s 1s/step - loss: 1.5118\n",
      "Epoch 74/400\n",
      "3/3 [==============================] - 4s 1s/step - loss: 1.4879\n",
      "Epoch 75/400\n",
      "3/3 [==============================] - 4s 1s/step - loss: 1.4624\n",
      "Epoch 76/400\n",
      "3/3 [==============================] - 4s 1s/step - loss: 1.4485\n",
      "Epoch 77/400\n",
      "3/3 [==============================] - 4s 1s/step - loss: 1.4214\n",
      "Epoch 78/400\n",
      "3/3 [==============================] - 4s 1s/step - loss: 1.4007\n",
      "Epoch 79/400\n",
      "3/3 [==============================] - 4s 1s/step - loss: 1.3685\n",
      "Epoch 80/400\n",
      "3/3 [==============================] - 4s 1s/step - loss: 1.3528\n",
      "Epoch 81/400\n",
      "3/3 [==============================] - 4s 1s/step - loss: 1.3291\n",
      "Epoch 82/400\n",
      "3/3 [==============================] - 4s 1s/step - loss: 1.2985\n",
      "Epoch 83/400\n",
      "3/3 [==============================] - 4s 1s/step - loss: 1.2770\n",
      "Epoch 84/400\n",
      "3/3 [==============================] - 4s 1s/step - loss: 1.2543\n",
      "Epoch 85/400\n",
      "3/3 [==============================] - 4s 1s/step - loss: 1.2287\n",
      "Epoch 86/400\n",
      "3/3 [==============================] - 4s 1s/step - loss: 1.1978\n",
      "Epoch 87/400\n",
      "3/3 [==============================] - 4s 1s/step - loss: 1.1807\n",
      "Epoch 88/400\n",
      "3/3 [==============================] - 4s 1s/step - loss: 1.1509\n",
      "Epoch 89/400\n",
      "3/3 [==============================] - 4s 1s/step - loss: 1.1324\n",
      "Epoch 90/400\n",
      "3/3 [==============================] - 4s 1s/step - loss: 1.0922\n",
      "Epoch 91/400\n",
      "3/3 [==============================] - 4s 1s/step - loss: 1.0631\n",
      "Epoch 92/400\n",
      "3/3 [==============================] - 4s 1s/step - loss: 1.0307\n",
      "Epoch 93/400\n",
      "3/3 [==============================] - 4s 1s/step - loss: 1.0111\n",
      "Epoch 94/400\n",
      "3/3 [==============================] - 4s 1s/step - loss: 0.9722\n",
      "Epoch 95/400\n",
      "3/3 [==============================] - 4s 1s/step - loss: 0.9489\n",
      "Epoch 96/400\n",
      "3/3 [==============================] - 4s 1s/step - loss: 0.9154\n",
      "Epoch 97/400\n",
      "3/3 [==============================] - 4s 1s/step - loss: 0.8900\n",
      "Epoch 98/400\n",
      "3/3 [==============================] - 4s 1s/step - loss: 0.8577\n",
      "Epoch 99/400\n",
      "3/3 [==============================] - 4s 1s/step - loss: 0.8306\n",
      "Epoch 100/400\n",
      "3/3 [==============================] - 4s 1s/step - loss: 0.7857\n",
      "Epoch 101/400\n",
      "3/3 [==============================] - 4s 1s/step - loss: 0.7618\n",
      "Epoch 102/400\n",
      "3/3 [==============================] - 4s 1s/step - loss: 0.7351\n",
      "Epoch 103/400\n",
      "3/3 [==============================] - 4s 1s/step - loss: 0.6968\n",
      "Epoch 104/400\n",
      "3/3 [==============================] - 4s 1s/step - loss: 0.6692\n",
      "Epoch 105/400\n",
      "3/3 [==============================] - 4s 1s/step - loss: 0.6433\n",
      "Epoch 106/400\n",
      "3/3 [==============================] - 4s 1s/step - loss: 0.6265\n",
      "Epoch 107/400\n",
      "3/3 [==============================] - 4s 1s/step - loss: 0.5849\n",
      "Epoch 108/400\n",
      "3/3 [==============================] - 4s 1s/step - loss: 0.5633\n",
      "Epoch 109/400\n",
      "3/3 [==============================] - 4s 1s/step - loss: 0.5307\n",
      "Epoch 110/400\n",
      "3/3 [==============================] - 4s 1s/step - loss: 0.4900\n",
      "Epoch 111/400\n",
      "3/3 [==============================] - 4s 1s/step - loss: 0.4653\n",
      "Epoch 112/400\n",
      "3/3 [==============================] - 4s 1s/step - loss: 0.4421\n",
      "Epoch 113/400\n",
      "3/3 [==============================] - 4s 1s/step - loss: 0.4167\n",
      "Epoch 114/400\n",
      "3/3 [==============================] - 4s 1s/step - loss: 0.3987\n",
      "Epoch 115/400\n",
      "3/3 [==============================] - 4s 1s/step - loss: 0.3843\n",
      "Epoch 116/400\n",
      "3/3 [==============================] - 4s 1s/step - loss: 0.3601\n",
      "Epoch 117/400\n",
      "3/3 [==============================] - 4s 1s/step - loss: 0.3332\n",
      "Epoch 118/400\n",
      "3/3 [==============================] - 4s 1s/step - loss: 0.3132\n",
      "Epoch 119/400\n",
      "3/3 [==============================] - 4s 1s/step - loss: 0.2895\n",
      "Epoch 120/400\n",
      "3/3 [==============================] - 4s 1s/step - loss: 0.2689\n",
      "Epoch 121/400\n",
      "3/3 [==============================] - 4s 1s/step - loss: 0.2562\n",
      "Epoch 122/400\n",
      "3/3 [==============================] - 4s 1s/step - loss: 0.2359\n",
      "Epoch 123/400\n",
      "3/3 [==============================] - 4s 1s/step - loss: 0.2236\n",
      "Epoch 124/400\n",
      "3/3 [==============================] - 4s 1s/step - loss: 0.2090\n",
      "Epoch 125/400\n",
      "3/3 [==============================] - 4s 1s/step - loss: 0.1963\n",
      "Epoch 126/400\n",
      "3/3 [==============================] - 4s 1s/step - loss: 0.1841\n",
      "Epoch 127/400\n",
      "3/3 [==============================] - 4s 1s/step - loss: 0.1732\n",
      "Epoch 128/400\n",
      "3/3 [==============================] - 4s 1s/step - loss: 0.1646\n",
      "Epoch 129/400\n",
      "3/3 [==============================] - 4s 1s/step - loss: 0.1544\n",
      "Epoch 130/400\n",
      "3/3 [==============================] - 4s 1s/step - loss: 0.1479\n",
      "Epoch 131/400\n",
      "3/3 [==============================] - 4s 1s/step - loss: 0.1403\n",
      "Epoch 132/400\n",
      "3/3 [==============================] - 4s 1s/step - loss: 0.1337\n",
      "Epoch 133/400\n",
      "3/3 [==============================] - 4s 1s/step - loss: 0.1261\n",
      "Epoch 134/400\n",
      "3/3 [==============================] - 4s 1s/step - loss: 0.1204\n",
      "Epoch 135/400\n",
      "3/3 [==============================] - 4s 1s/step - loss: 0.1166\n",
      "Epoch 136/400\n",
      "3/3 [==============================] - 4s 1s/step - loss: 0.1105\n",
      "Epoch 137/400\n",
      "3/3 [==============================] - 4s 1s/step - loss: 0.1059\n",
      "Epoch 138/400\n",
      "3/3 [==============================] - 4s 1s/step - loss: 0.1025\n",
      "Epoch 139/400\n",
      "3/3 [==============================] - 4s 1s/step - loss: 0.0988\n",
      "Epoch 140/400\n",
      "3/3 [==============================] - 4s 1s/step - loss: 0.0959\n",
      "Epoch 141/400\n",
      "3/3 [==============================] - 4s 1s/step - loss: 0.0924\n",
      "Epoch 142/400\n",
      "3/3 [==============================] - 4s 1s/step - loss: 0.0879\n",
      "Epoch 143/400\n",
      "3/3 [==============================] - 4s 1s/step - loss: 0.0870\n",
      "Epoch 144/400\n",
      "3/3 [==============================] - 4s 1s/step - loss: 0.0848\n",
      "Epoch 145/400\n",
      "3/3 [==============================] - 4s 1s/step - loss: 0.0825\n",
      "Epoch 146/400\n",
      "3/3 [==============================] - 4s 1s/step - loss: 0.0809\n",
      "Epoch 147/400\n",
      "3/3 [==============================] - 4s 1s/step - loss: 0.0788\n",
      "Epoch 148/400\n",
      "3/3 [==============================] - 4s 1s/step - loss: 0.0764\n",
      "Epoch 149/400\n",
      "3/3 [==============================] - 4s 1s/step - loss: 0.0752\n",
      "Epoch 150/400\n",
      "3/3 [==============================] - 4s 1s/step - loss: 0.0720\n",
      "Epoch 151/400\n",
      "3/3 [==============================] - 4s 1s/step - loss: 0.0707\n",
      "Epoch 152/400\n",
      "3/3 [==============================] - 4s 1s/step - loss: 0.0678\n",
      "Epoch 153/400\n",
      "3/3 [==============================] - 4s 1s/step - loss: 0.0676\n",
      "Epoch 154/400\n",
      "3/3 [==============================] - 4s 1s/step - loss: 0.0652\n",
      "Epoch 155/400\n",
      "3/3 [==============================] - 4s 1s/step - loss: 0.0650\n",
      "Epoch 156/400\n",
      "3/3 [==============================] - 4s 1s/step - loss: 0.0625\n",
      "Epoch 157/400\n",
      "3/3 [==============================] - 4s 1s/step - loss: 0.0624\n",
      "Epoch 158/400\n",
      "3/3 [==============================] - 4s 1s/step - loss: 0.0611\n",
      "Epoch 159/400\n",
      "3/3 [==============================] - 4s 1s/step - loss: 0.0607\n",
      "Epoch 160/400\n",
      "3/3 [==============================] - 4s 1s/step - loss: 0.0596\n",
      "Epoch 161/400\n",
      "3/3 [==============================] - 4s 1s/step - loss: 0.0583\n",
      "Epoch 162/400\n",
      "3/3 [==============================] - 4s 1s/step - loss: 0.0562\n",
      "Epoch 163/400\n",
      "3/3 [==============================] - 4s 1s/step - loss: 0.0554\n",
      "Epoch 164/400\n",
      "3/3 [==============================] - 4s 1s/step - loss: 0.0555\n",
      "Epoch 165/400\n",
      "3/3 [==============================] - 4s 1s/step - loss: 0.0543\n",
      "Epoch 166/400\n",
      "3/3 [==============================] - 4s 1s/step - loss: 0.0530\n",
      "Epoch 167/400\n",
      "3/3 [==============================] - 4s 1s/step - loss: 0.0527\n",
      "Epoch 168/400\n",
      "3/3 [==============================] - 4s 1s/step - loss: 0.0520\n",
      "Epoch 169/400\n",
      "3/3 [==============================] - 4s 1s/step - loss: 0.0512\n",
      "Epoch 170/400\n",
      "3/3 [==============================] - 4s 1s/step - loss: 0.0514\n",
      "Epoch 171/400\n",
      "3/3 [==============================] - 4s 1s/step - loss: 0.0501\n",
      "Epoch 172/400\n",
      "3/3 [==============================] - 4s 1s/step - loss: 0.0492\n",
      "Epoch 173/400\n",
      "3/3 [==============================] - 4s 1s/step - loss: 0.0491\n",
      "Epoch 174/400\n",
      "3/3 [==============================] - 4s 1s/step - loss: 0.0487\n",
      "Epoch 175/400\n",
      "3/3 [==============================] - 4s 1s/step - loss: 0.0486\n",
      "Epoch 176/400\n",
      "3/3 [==============================] - 4s 1s/step - loss: 0.0481\n",
      "Epoch 177/400\n",
      "3/3 [==============================] - 4s 1s/step - loss: 0.0467\n",
      "Epoch 178/400\n",
      "3/3 [==============================] - 4s 1s/step - loss: 0.0469\n",
      "Epoch 179/400\n",
      "3/3 [==============================] - 4s 1s/step - loss: 0.0462\n",
      "Epoch 180/400\n",
      "3/3 [==============================] - 4s 1s/step - loss: 0.0461\n",
      "Epoch 181/400\n",
      "3/3 [==============================] - 4s 1s/step - loss: 0.0458\n",
      "Epoch 182/400\n",
      "3/3 [==============================] - 4s 1s/step - loss: 0.0449\n",
      "Epoch 183/400\n",
      "3/3 [==============================] - 4s 1s/step - loss: 0.0448\n",
      "Epoch 184/400\n",
      "3/3 [==============================] - 4s 1s/step - loss: 0.0450\n",
      "Epoch 185/400\n",
      "3/3 [==============================] - 4s 1s/step - loss: 0.0438\n",
      "Epoch 186/400\n",
      "3/3 [==============================] - 4s 1s/step - loss: 0.0433\n",
      "Epoch 187/400\n",
      "3/3 [==============================] - 4s 1s/step - loss: 0.0427\n",
      "Epoch 188/400\n",
      "3/3 [==============================] - 4s 1s/step - loss: 0.0428\n",
      "Epoch 189/400\n",
      "3/3 [==============================] - 4s 1s/step - loss: 0.0426\n",
      "Epoch 190/400\n",
      "3/3 [==============================] - 4s 1s/step - loss: 0.0424\n",
      "Epoch 191/400\n",
      "3/3 [==============================] - 4s 1s/step - loss: 0.0422\n",
      "Epoch 192/400\n",
      "3/3 [==============================] - 4s 1s/step - loss: 0.0420\n",
      "Epoch 193/400\n",
      "3/3 [==============================] - 4s 1s/step - loss: 0.0422\n",
      "Epoch 194/400\n",
      "3/3 [==============================] - 4s 1s/step - loss: 0.0415\n",
      "Epoch 195/400\n",
      "3/3 [==============================] - 4s 1s/step - loss: 0.0411\n",
      "Epoch 196/400\n",
      "3/3 [==============================] - 4s 1s/step - loss: 0.0409\n",
      "Epoch 197/400\n",
      "3/3 [==============================] - 4s 1s/step - loss: 0.0402\n",
      "Epoch 198/400\n",
      "3/3 [==============================] - 4s 1s/step - loss: 0.0399\n",
      "Epoch 199/400\n",
      "3/3 [==============================] - 4s 1s/step - loss: 0.0397\n",
      "Epoch 200/400\n",
      "3/3 [==============================] - 4s 1s/step - loss: 0.0400\n",
      "Epoch 201/400\n",
      "3/3 [==============================] - 4s 1s/step - loss: 0.0399\n",
      "Epoch 202/400\n",
      "3/3 [==============================] - 4s 1s/step - loss: 0.0393\n",
      "Epoch 203/400\n",
      "3/3 [==============================] - 4s 1s/step - loss: 0.0395\n",
      "Epoch 204/400\n",
      "3/3 [==============================] - 4s 1s/step - loss: 0.0392\n",
      "Epoch 205/400\n",
      "3/3 [==============================] - 4s 1s/step - loss: 0.0391\n",
      "Epoch 206/400\n",
      "3/3 [==============================] - 4s 1s/step - loss: 0.0387\n",
      "Epoch 207/400\n",
      "3/3 [==============================] - 4s 1s/step - loss: 0.0381\n",
      "Epoch 208/400\n",
      "3/3 [==============================] - 4s 1s/step - loss: 0.0386\n",
      "Epoch 209/400\n",
      "3/3 [==============================] - 4s 1s/step - loss: 0.0382\n",
      "Epoch 210/400\n",
      "3/3 [==============================] - 4s 1s/step - loss: 0.0373\n",
      "Epoch 211/400\n",
      "3/3 [==============================] - 4s 1s/step - loss: 0.0375\n",
      "Epoch 212/400\n",
      "3/3 [==============================] - 4s 1s/step - loss: 0.0376\n",
      "Epoch 213/400\n",
      "3/3 [==============================] - 4s 1s/step - loss: 0.0371\n",
      "Epoch 214/400\n",
      "3/3 [==============================] - 4s 1s/step - loss: 0.0374\n",
      "Epoch 215/400\n",
      "3/3 [==============================] - 4s 1s/step - loss: 0.0370\n",
      "Epoch 216/400\n",
      "3/3 [==============================] - 4s 1s/step - loss: 0.0372\n",
      "Epoch 217/400\n",
      "3/3 [==============================] - 4s 1s/step - loss: 0.0367\n",
      "Epoch 218/400\n",
      "3/3 [==============================] - 4s 1s/step - loss: 0.0367\n",
      "Epoch 219/400\n",
      "3/3 [==============================] - 4s 1s/step - loss: 0.0365\n",
      "Epoch 220/400\n",
      "3/3 [==============================] - 4s 1s/step - loss: 0.0355\n",
      "Epoch 221/400\n",
      "3/3 [==============================] - 4s 1s/step - loss: 0.0363\n",
      "Epoch 222/400\n",
      "3/3 [==============================] - 4s 1s/step - loss: 0.0358\n",
      "Epoch 223/400\n",
      "3/3 [==============================] - 4s 1s/step - loss: 0.0357\n",
      "Epoch 224/400\n",
      "3/3 [==============================] - 4s 1s/step - loss: 0.0351\n",
      "Epoch 225/400\n",
      "3/3 [==============================] - 4s 1s/step - loss: 0.0356\n",
      "Epoch 226/400\n",
      "3/3 [==============================] - 4s 1s/step - loss: 0.0352\n",
      "Epoch 227/400\n",
      "3/3 [==============================] - 4s 1s/step - loss: 0.0350\n",
      "Epoch 228/400\n",
      "3/3 [==============================] - 4s 1s/step - loss: 0.0350\n",
      "Epoch 229/400\n",
      "3/3 [==============================] - 4s 1s/step - loss: 0.0345\n",
      "Epoch 230/400\n",
      "3/3 [==============================] - 4s 1s/step - loss: 0.0344\n",
      "Epoch 231/400\n",
      "3/3 [==============================] - 4s 1s/step - loss: 0.0343\n",
      "Epoch 232/400\n",
      "3/3 [==============================] - 4s 1s/step - loss: 0.0345\n",
      "Epoch 233/400\n",
      "3/3 [==============================] - 4s 1s/step - loss: 0.0344\n",
      "Epoch 234/400\n",
      "3/3 [==============================] - 4s 1s/step - loss: 0.0353\n",
      "Epoch 235/400\n",
      "3/3 [==============================] - 4s 1s/step - loss: 0.0345\n",
      "Epoch 236/400\n",
      "3/3 [==============================] - 4s 1s/step - loss: 0.0340\n",
      "Epoch 237/400\n",
      "3/3 [==============================] - 4s 1s/step - loss: 0.0344\n",
      "Epoch 238/400\n",
      "3/3 [==============================] - 4s 1s/step - loss: 0.0344\n",
      "Epoch 239/400\n",
      "3/3 [==============================] - 4s 1s/step - loss: 0.0340\n",
      "Epoch 240/400\n",
      "3/3 [==============================] - 4s 1s/step - loss: 0.0341\n",
      "Epoch 241/400\n",
      "3/3 [==============================] - 4s 1s/step - loss: 0.0338\n",
      "Epoch 242/400\n",
      "3/3 [==============================] - 4s 1s/step - loss: 0.0337\n",
      "Epoch 243/400\n",
      "3/3 [==============================] - 4s 1s/step - loss: 0.0339\n",
      "Epoch 244/400\n",
      "3/3 [==============================] - 4s 1s/step - loss: 0.0329\n",
      "Epoch 245/400\n",
      "3/3 [==============================] - 4s 1s/step - loss: 0.0331\n",
      "Epoch 246/400\n",
      "3/3 [==============================] - 4s 1s/step - loss: 0.0332\n",
      "Epoch 247/400\n",
      "3/3 [==============================] - 4s 1s/step - loss: 0.0330\n",
      "Epoch 248/400\n",
      "3/3 [==============================] - 4s 1s/step - loss: 0.0331\n",
      "Epoch 249/400\n",
      "3/3 [==============================] - 4s 1s/step - loss: 0.0329\n",
      "Epoch 250/400\n",
      "3/3 [==============================] - 4s 1s/step - loss: 0.0332\n",
      "Epoch 251/400\n",
      "3/3 [==============================] - 4s 1s/step - loss: 0.0332\n",
      "Epoch 252/400\n",
      "3/3 [==============================] - 4s 1s/step - loss: 0.0325\n",
      "Epoch 253/400\n",
      "3/3 [==============================] - 4s 1s/step - loss: 0.0328\n",
      "Epoch 254/400\n",
      "3/3 [==============================] - 4s 1s/step - loss: 0.0330\n",
      "Epoch 255/400\n",
      "3/3 [==============================] - 4s 1s/step - loss: 0.0332\n",
      "Epoch 256/400\n",
      "3/3 [==============================] - 4s 1s/step - loss: 0.0328\n",
      "Epoch 257/400\n",
      "3/3 [==============================] - 4s 1s/step - loss: 0.0329\n",
      "Epoch 258/400\n",
      "3/3 [==============================] - 4s 1s/step - loss: 0.0326\n",
      "Epoch 259/400\n",
      "3/3 [==============================] - 4s 1s/step - loss: 0.0325\n",
      "Epoch 260/400\n",
      "3/3 [==============================] - 4s 1s/step - loss: 0.0324\n",
      "Epoch 261/400\n",
      "3/3 [==============================] - 4s 1s/step - loss: 0.0320\n",
      "Epoch 262/400\n",
      "3/3 [==============================] - 4s 1s/step - loss: 0.0323\n",
      "Epoch 263/400\n",
      "3/3 [==============================] - 4s 1s/step - loss: 0.0317\n",
      "Epoch 264/400\n",
      "3/3 [==============================] - 4s 1s/step - loss: 0.0322\n",
      "Epoch 265/400\n",
      "3/3 [==============================] - 4s 1s/step - loss: 0.0323\n",
      "Epoch 266/400\n",
      "3/3 [==============================] - 4s 1s/step - loss: 0.0318\n",
      "Epoch 267/400\n",
      "3/3 [==============================] - 4s 1s/step - loss: 0.0317\n",
      "Epoch 268/400\n",
      "3/3 [==============================] - 4s 1s/step - loss: 0.0324\n",
      "Epoch 269/400\n",
      "3/3 [==============================] - 4s 1s/step - loss: 0.0325\n",
      "Epoch 270/400\n",
      "3/3 [==============================] - 4s 1s/step - loss: 0.0313\n",
      "Epoch 271/400\n",
      "3/3 [==============================] - 4s 1s/step - loss: 0.0318\n",
      "Epoch 272/400\n",
      "3/3 [==============================] - 4s 1s/step - loss: 0.0318\n",
      "Epoch 273/400\n",
      "3/3 [==============================] - 4s 1s/step - loss: 0.0318\n",
      "Epoch 274/400\n",
      "3/3 [==============================] - 4s 1s/step - loss: 0.0312\n",
      "Epoch 275/400\n",
      "3/3 [==============================] - 4s 1s/step - loss: 0.0312\n",
      "Epoch 276/400\n",
      "3/3 [==============================] - 4s 1s/step - loss: 0.0314\n",
      "Epoch 277/400\n",
      "3/3 [==============================] - 4s 1s/step - loss: 0.0309\n",
      "Epoch 278/400\n",
      "3/3 [==============================] - 4s 1s/step - loss: 0.0314\n",
      "Epoch 279/400\n",
      "3/3 [==============================] - 4s 1s/step - loss: 0.0310\n",
      "Epoch 280/400\n",
      "3/3 [==============================] - 4s 1s/step - loss: 0.0311\n",
      "Epoch 281/400\n",
      "3/3 [==============================] - 4s 1s/step - loss: 0.0313\n",
      "Epoch 282/400\n",
      "3/3 [==============================] - 4s 1s/step - loss: 0.0312\n",
      "Epoch 283/400\n",
      "3/3 [==============================] - 4s 1s/step - loss: 0.0320\n",
      "Epoch 284/400\n",
      "3/3 [==============================] - 4s 1s/step - loss: 0.0313\n",
      "Epoch 285/400\n",
      "3/3 [==============================] - 4s 1s/step - loss: 0.0312\n",
      "Epoch 286/400\n",
      "3/3 [==============================] - 4s 1s/step - loss: 0.0315\n",
      "Epoch 287/400\n",
      "3/3 [==============================] - 4s 1s/step - loss: 0.0311\n",
      "Epoch 288/400\n",
      "3/3 [==============================] - 4s 1s/step - loss: 0.0309\n",
      "Epoch 289/400\n",
      "3/3 [==============================] - 4s 1s/step - loss: 0.0304\n",
      "Epoch 290/400\n",
      "3/3 [==============================] - 4s 1s/step - loss: 0.0309\n",
      "Epoch 291/400\n",
      "3/3 [==============================] - 4s 1s/step - loss: 0.0312\n",
      "Epoch 292/400\n",
      "3/3 [==============================] - 4s 1s/step - loss: 0.0307\n",
      "Epoch 293/400\n",
      "3/3 [==============================] - 4s 1s/step - loss: 0.0305\n",
      "Epoch 294/400\n",
      "3/3 [==============================] - 4s 1s/step - loss: 0.0312\n",
      "Epoch 295/400\n",
      "3/3 [==============================] - 4s 1s/step - loss: 0.0311\n",
      "Epoch 296/400\n",
      "3/3 [==============================] - 4s 1s/step - loss: 0.0308\n",
      "Epoch 297/400\n",
      "3/3 [==============================] - 4s 1s/step - loss: 0.0304\n",
      "Epoch 298/400\n",
      "3/3 [==============================] - 4s 1s/step - loss: 0.0305\n",
      "Epoch 299/400\n",
      "3/3 [==============================] - 4s 1s/step - loss: 0.0308\n",
      "Epoch 300/400\n",
      "3/3 [==============================] - 4s 1s/step - loss: 0.0307\n",
      "Epoch 301/400\n",
      "3/3 [==============================] - 4s 1s/step - loss: 0.0302\n",
      "Epoch 302/400\n",
      "3/3 [==============================] - 4s 1s/step - loss: 0.0306\n",
      "Epoch 303/400\n",
      "3/3 [==============================] - 4s 1s/step - loss: 0.0301\n",
      "Epoch 304/400\n",
      "3/3 [==============================] - 4s 1s/step - loss: 0.0302\n",
      "Epoch 305/400\n",
      "3/3 [==============================] - 4s 1s/step - loss: 0.0303\n",
      "Epoch 306/400\n",
      "3/3 [==============================] - 4s 1s/step - loss: 0.0310\n",
      "Epoch 307/400\n",
      "3/3 [==============================] - 4s 1s/step - loss: 0.0303\n",
      "Epoch 308/400\n",
      "3/3 [==============================] - 4s 1s/step - loss: 0.0300\n",
      "Epoch 309/400\n",
      "3/3 [==============================] - 4s 1s/step - loss: 0.0298\n",
      "Epoch 310/400\n",
      "3/3 [==============================] - 4s 1s/step - loss: 0.0304\n",
      "Epoch 311/400\n",
      "3/3 [==============================] - 4s 1s/step - loss: 0.0302\n",
      "Epoch 312/400\n",
      "3/3 [==============================] - 4s 1s/step - loss: 0.0300\n",
      "Epoch 313/400\n",
      "3/3 [==============================] - 4s 1s/step - loss: 0.0306\n",
      "Epoch 314/400\n",
      "3/3 [==============================] - 4s 1s/step - loss: 0.0302\n",
      "Epoch 315/400\n",
      "3/3 [==============================] - 4s 1s/step - loss: 0.0302\n",
      "Epoch 316/400\n",
      "3/3 [==============================] - 4s 1s/step - loss: 0.0300\n",
      "Epoch 317/400\n",
      "3/3 [==============================] - 4s 1s/step - loss: 0.0302\n",
      "Epoch 318/400\n",
      "3/3 [==============================] - 4s 1s/step - loss: 0.0299\n",
      "Epoch 319/400\n",
      "3/3 [==============================] - 4s 1s/step - loss: 0.0302\n",
      "Epoch 320/400\n",
      "3/3 [==============================] - 4s 1s/step - loss: 0.0300\n",
      "Epoch 321/400\n",
      "3/3 [==============================] - 4s 1s/step - loss: 0.0298\n",
      "Epoch 322/400\n",
      "3/3 [==============================] - 4s 1s/step - loss: 0.0296\n",
      "Epoch 323/400\n",
      "3/3 [==============================] - 4s 1s/step - loss: 0.0301\n",
      "Epoch 324/400\n",
      "3/3 [==============================] - 4s 1s/step - loss: 0.0299\n",
      "Epoch 325/400\n",
      "3/3 [==============================] - 4s 1s/step - loss: 0.0298\n",
      "Epoch 326/400\n",
      "3/3 [==============================] - 4s 1s/step - loss: 0.0298\n",
      "Epoch 327/400\n",
      "3/3 [==============================] - 4s 1s/step - loss: 0.0299\n",
      "Epoch 328/400\n",
      "3/3 [==============================] - 4s 1s/step - loss: 0.0297\n",
      "Epoch 329/400\n",
      "3/3 [==============================] - 4s 1s/step - loss: 0.0302\n",
      "Epoch 330/400\n",
      "3/3 [==============================] - 4s 1s/step - loss: 0.0301\n",
      "Epoch 331/400\n",
      "3/3 [==============================] - 4s 1s/step - loss: 0.0295\n",
      "Epoch 332/400\n",
      "3/3 [==============================] - 4s 1s/step - loss: 0.0299\n",
      "Epoch 333/400\n",
      "3/3 [==============================] - 4s 1s/step - loss: 0.0296\n",
      "Epoch 334/400\n",
      "3/3 [==============================] - 4s 1s/step - loss: 0.0301\n",
      "Epoch 335/400\n",
      "3/3 [==============================] - 4s 1s/step - loss: 0.0298\n",
      "Epoch 336/400\n",
      "3/3 [==============================] - 4s 1s/step - loss: 0.0298\n",
      "Epoch 337/400\n",
      "3/3 [==============================] - 4s 1s/step - loss: 0.0295\n",
      "Epoch 338/400\n",
      "3/3 [==============================] - 4s 1s/step - loss: 0.0298\n",
      "Epoch 339/400\n",
      "3/3 [==============================] - 4s 1s/step - loss: 0.0296\n",
      "Epoch 340/400\n",
      "3/3 [==============================] - 4s 1s/step - loss: 0.0296\n",
      "Epoch 341/400\n",
      "3/3 [==============================] - 4s 1s/step - loss: 0.0301\n",
      "Epoch 342/400\n",
      "3/3 [==============================] - 4s 1s/step - loss: 0.0299\n",
      "Epoch 343/400\n",
      "3/3 [==============================] - 4s 1s/step - loss: 0.0291\n",
      "Epoch 344/400\n",
      "3/3 [==============================] - 4s 1s/step - loss: 0.0295\n",
      "Epoch 345/400\n",
      "3/3 [==============================] - 4s 1s/step - loss: 0.0292\n",
      "Epoch 346/400\n",
      "3/3 [==============================] - 4s 1s/step - loss: 0.0293\n",
      "Epoch 347/400\n",
      "3/3 [==============================] - 4s 1s/step - loss: 0.0296\n",
      "Epoch 348/400\n",
      "3/3 [==============================] - 4s 1s/step - loss: 0.0294\n",
      "Epoch 349/400\n",
      "3/3 [==============================] - 4s 1s/step - loss: 0.0295\n",
      "Epoch 350/400\n",
      "3/3 [==============================] - 4s 1s/step - loss: 0.0292\n",
      "Epoch 351/400\n",
      "3/3 [==============================] - 4s 1s/step - loss: 0.0297\n",
      "Epoch 352/400\n",
      "3/3 [==============================] - 4s 1s/step - loss: 0.0291\n",
      "Epoch 353/400\n",
      "3/3 [==============================] - 4s 1s/step - loss: 0.0290\n",
      "Epoch 354/400\n",
      "3/3 [==============================] - 4s 1s/step - loss: 0.0287\n",
      "Epoch 355/400\n",
      "3/3 [==============================] - 4s 1s/step - loss: 0.0291\n",
      "Epoch 356/400\n",
      "3/3 [==============================] - 4s 1s/step - loss: 0.0297\n",
      "Epoch 357/400\n",
      "3/3 [==============================] - 4s 1s/step - loss: 0.0295\n",
      "Epoch 358/400\n",
      "3/3 [==============================] - 4s 1s/step - loss: 0.0292\n",
      "Epoch 359/400\n",
      "3/3 [==============================] - 4s 1s/step - loss: 0.0294\n",
      "Epoch 360/400\n",
      "3/3 [==============================] - 4s 1s/step - loss: 0.0292\n",
      "Epoch 361/400\n",
      "3/3 [==============================] - 4s 1s/step - loss: 0.0294\n",
      "Epoch 362/400\n",
      "3/3 [==============================] - 4s 1s/step - loss: 0.0285\n",
      "Epoch 363/400\n",
      "3/3 [==============================] - 4s 1s/step - loss: 0.0291\n",
      "Epoch 364/400\n",
      "3/3 [==============================] - 4s 1s/step - loss: 0.0292\n",
      "Epoch 365/400\n",
      "3/3 [==============================] - 4s 1s/step - loss: 0.0287\n",
      "Epoch 366/400\n",
      "3/3 [==============================] - 4s 1s/step - loss: 0.0288\n",
      "Epoch 367/400\n",
      "3/3 [==============================] - 4s 1s/step - loss: 0.0291\n",
      "Epoch 368/400\n",
      "3/3 [==============================] - 4s 1s/step - loss: 0.0292\n",
      "Epoch 369/400\n",
      "3/3 [==============================] - 4s 1s/step - loss: 0.0290\n",
      "Epoch 370/400\n",
      "3/3 [==============================] - 4s 1s/step - loss: 0.0286\n",
      "Epoch 371/400\n",
      "3/3 [==============================] - 4s 1s/step - loss: 0.0288\n",
      "Epoch 372/400\n",
      "3/3 [==============================] - 4s 1s/step - loss: 0.0292\n",
      "Epoch 373/400\n",
      "3/3 [==============================] - 4s 1s/step - loss: 0.0289\n",
      "Epoch 374/400\n",
      "3/3 [==============================] - 4s 1s/step - loss: 0.0286\n",
      "Epoch 375/400\n",
      "3/3 [==============================] - 4s 1s/step - loss: 0.0292\n",
      "Epoch 376/400\n",
      "3/3 [==============================] - 4s 1s/step - loss: 0.0288\n",
      "Epoch 377/400\n",
      "3/3 [==============================] - 4s 1s/step - loss: 0.0283\n",
      "Epoch 378/400\n",
      "3/3 [==============================] - 4s 1s/step - loss: 0.0287\n",
      "Epoch 379/400\n",
      "3/3 [==============================] - 4s 1s/step - loss: 0.0289\n",
      "Epoch 380/400\n",
      "3/3 [==============================] - 4s 1s/step - loss: 0.0290\n",
      "Epoch 381/400\n",
      "3/3 [==============================] - 4s 1s/step - loss: 0.0292\n",
      "Epoch 382/400\n",
      "3/3 [==============================] - 4s 1s/step - loss: 0.0288\n",
      "Epoch 383/400\n",
      "3/3 [==============================] - 4s 1s/step - loss: 0.0289\n",
      "Epoch 384/400\n",
      "3/3 [==============================] - 4s 1s/step - loss: 0.0288\n",
      "Epoch 385/400\n",
      "3/3 [==============================] - 4s 1s/step - loss: 0.0284\n",
      "Epoch 386/400\n",
      "3/3 [==============================] - 4s 1s/step - loss: 0.0289\n",
      "Epoch 387/400\n",
      "3/3 [==============================] - 4s 1s/step - loss: 0.0292\n",
      "Epoch 388/400\n",
      "3/3 [==============================] - 4s 1s/step - loss: 0.0289\n",
      "Epoch 389/400\n",
      "3/3 [==============================] - 4s 1s/step - loss: 0.0285\n",
      "Epoch 390/400\n",
      "3/3 [==============================] - 4s 1s/step - loss: 0.0289\n",
      "Epoch 391/400\n",
      "3/3 [==============================] - 4s 1s/step - loss: 0.0292\n",
      "Epoch 392/400\n",
      "3/3 [==============================] - 4s 1s/step - loss: 0.0288\n",
      "Epoch 393/400\n",
      "3/3 [==============================] - 4s 1s/step - loss: 0.0288\n",
      "Epoch 394/400\n",
      "3/3 [==============================] - 4s 1s/step - loss: 0.0287\n",
      "Epoch 395/400\n",
      "3/3 [==============================] - 4s 1s/step - loss: 0.0290\n",
      "Epoch 396/400\n",
      "3/3 [==============================] - 4s 1s/step - loss: 0.0284\n",
      "Epoch 397/400\n",
      "3/3 [==============================] - 4s 1s/step - loss: 0.0286\n",
      "Epoch 398/400\n",
      "3/3 [==============================] - 4s 1s/step - loss: 0.0288\n",
      "Epoch 399/400\n",
      "3/3 [==============================] - 4s 1s/step - loss: 0.0287\n",
      "Epoch 400/400\n",
      "3/3 [==============================] - 4s 1s/step - loss: 0.0282\n"
     ]
    }
   ],
   "source": [
    "history = model.fit(dataset, epochs=EPOCHS, callbacks=[checkpoint_callback])"
   ]
  },
  {
   "cell_type": "markdown",
   "metadata": {
    "id": "5u96OGBBwUWe"
   },
   "source": [
    "Función para ver en que época tiene menos loss para saber mas o menos cual es el mejor modelo\n"
   ]
  },
  {
   "cell_type": "code",
   "execution_count": 43,
   "metadata": {
    "colab": {
     "base_uri": "https://localhost:8080/"
    },
    "id": "1rjzVZ8lPt2q",
    "outputId": "1773c51d-c440-4ff7-b579-d23b04f7e5f3"
   },
   "outputs": [
    {
     "name": "stdout",
     "output_type": "stream",
     "text": [
      "Época con la pérdida más baja: 400, Loss: 0.02822059392929077\n"
     ]
    }
   ],
   "source": [
    "# Acceder a las métricas de entrenamiento\n",
    "train_loss = history.history['loss']\n",
    "\n",
    "# Encontrar la época con la pérdida más baja\n",
    "min_loss_epoch = train_loss.index(min(train_loss)) + 1  # Sumar 1 porque las épocas comienzan desde 1\n",
    "\n",
    "# Imprimir la época con la pérdida más baja\n",
    "print(f\"Época con la pérdida más baja: {min_loss_epoch}, Loss: {min(train_loss)}\")"
   ]
  },
  {
   "cell_type": "markdown",
   "metadata": {
    "id": "kKkD5M6eoSiN"
   },
   "source": [
    "## 5. Genera texto y evalúa su calidad"
   ]
  },
  {
   "cell_type": "markdown",
   "metadata": {
    "id": "aLmBdakSw3Fm"
   },
   "source": [
    "OneStep se utiliza para definir un modelo de generación de texto de un solo paso basado en un modelo más grande. Genera un único carácter en función de una entrada dada."
   ]
  },
  {
   "cell_type": "code",
   "execution_count": 44,
   "metadata": {
    "id": "lGo7oWeaRcPA"
   },
   "outputs": [],
   "source": [
    "class OneStep(tf.keras.Model):\n",
    "  def __init__(self, model, chars_from_ids, ids_from_chars, temperature=1.0):\n",
    "    super().__init__()\n",
    "    self.temperature = temperature\n",
    "    self.model = model\n",
    "    self.chars_from_ids = chars_from_ids\n",
    "    self.ids_from_chars = ids_from_chars\n",
    "\n",
    "    # Create a mask to prevent \"[UNK]\" from being generated.\n",
    "    skip_ids = self.ids_from_chars(['[UNK]'])[:, None]\n",
    "    sparse_mask = tf.SparseTensor(\n",
    "        # Put a -inf at each bad index.\n",
    "        values=[-float('inf')]*len(skip_ids),\n",
    "        indices=skip_ids,\n",
    "        # Match the shape to the vocabulary\n",
    "        dense_shape=[len(ids_from_chars.get_vocabulary())])\n",
    "    self.prediction_mask = tf.sparse.to_dense(sparse_mask)\n",
    "\n",
    "  @tf.function\n",
    "  def generate_one_step(self, inputs, states=None):\n",
    "    # Convert strings to token IDs.\n",
    "    input_chars = tf.strings.unicode_split(inputs, 'UTF-8')\n",
    "    input_ids = self.ids_from_chars(input_chars).to_tensor()\n",
    "\n",
    "    # Run the model.\n",
    "    # predicted_logits.shape is [batch, char, next_char_logits]\n",
    "    predicted_logits, states = self.model(inputs=input_ids, states=states,\n",
    "                                          return_state=True)\n",
    "    # Only use the last prediction.\n",
    "    predicted_logits = predicted_logits[:, -1, :]\n",
    "    predicted_logits = predicted_logits/self.temperature\n",
    "    # Apply the prediction mask: prevent \"[UNK]\" from being generated.\n",
    "    predicted_logits = predicted_logits + self.prediction_mask\n",
    "\n",
    "    # Sample the output logits to generate token IDs.\n",
    "    predicted_ids = tf.random.categorical(predicted_logits, num_samples=1)\n",
    "    predicted_ids = tf.squeeze(predicted_ids, axis=-1)\n",
    "\n",
    "    # Convert from token ids to characters\n",
    "    predicted_chars = self.chars_from_ids(predicted_ids)\n",
    "\n",
    "    # Return the characters and model state.\n",
    "    return predicted_chars, states"
   ]
  },
  {
   "cell_type": "markdown",
   "metadata": {
    "id": "CqQejhcrxESl"
   },
   "source": [
    "Crea un nuevo modelo utilizando OneStep.Este modelo permite generar una sola predicción a la vez, para generar texto de manera iterativa, tomando una palabra predicha como entrada para predecir la siguiente."
   ]
  },
  {
   "cell_type": "code",
   "execution_count": 45,
   "metadata": {
    "id": "jaiD9qOjRcPB"
   },
   "outputs": [],
   "source": [
    "one_step_model = OneStep(model, chars_from_ids, ids_from_chars)"
   ]
  },
  {
   "cell_type": "markdown",
   "metadata": {
    "id": "xrmHEYZZxe5h"
   },
   "source": [
    "Utiliza One_step_model para generar texto a partir de la palabra Política. Generará 1000 palabras."
   ]
  },
  {
   "cell_type": "code",
   "execution_count": 46,
   "metadata": {
    "colab": {
     "base_uri": "https://localhost:8080/"
    },
    "id": "VI2jsf9oRcPB",
    "outputId": "111ace09-2e12-46c4-fa06-210ce2804fc2"
   },
   "outputs": [
    {
     "name": "stdout",
     "output_type": "stream",
     "text": [
      "Política, añora no se hobre de España y a la vez impidiendo su detención, por instrucciones expresas delirovos mán meresteses de los españoles. Señor Sánchez, usted como ustedes tan an ias que a usted le gustan los aperitivos, pero que la famo a la ganara la oposición de vacuras y con los emportanes sun tormo pera su próximpañía y he e la generanzz. yo tenía unte en par se sus partidos nol trand en el que ha provocado la mayor contracción del producto interior blaní cobrerianaliz y le franómpro interesto el deductor con Parle con el tan o de a lo respira delciónis, la libidad y la tamosiacapie la vivira cuerte que están in la voy a leeran una fació a las rás ilpotratespo que nombre hacia máschedes en usa expEño a las calas―so, se llama ETA.  Señor Sánchez, ha citado usted aquí al señor Azaña, y hemos pensado lo mismo el Rey. Son escabos en Barcelona, que pretendían atentar en nuestro país, habían entrado en patera ilegalmente? Das el barro o lo que parece que ya es tradición socialista contrac \n",
      "\n",
      "________________________________________________________________________________\n",
      "\n",
      "Run time: 2.003000259399414\n"
     ]
    }
   ],
   "source": [
    "start = time.time()\n",
    "states = None\n",
    "next_char = tf.constant(['Política'])\n",
    "result = [next_char]\n",
    "\n",
    "for n in range(1000):\n",
    "  next_char, states = one_step_model.generate_one_step(next_char, states=states)\n",
    "  result.append(next_char)\n",
    "\n",
    "result = tf.strings.join(result)\n",
    "end = time.time()\n",
    "print(result[0].numpy().decode('utf-8'), '\\n\\n' + '_'*80)\n",
    "print('\\nRun time:', end - start)"
   ]
  },
  {
   "cell_type": "markdown",
   "metadata": {
    "id": "4srCavc5yJRZ"
   },
   "source": [
    "Mas o menos hila palabras pero no no es muy fino. Haría falta, para tener mejores resultados, tener un dataset mas grande, ajustar hiperparámetros ( dimensión del embedding, el número de unidades en la capa GRU, la tasa de aprendizaje) o probar con un modelo mas complejo.\n"
   ]
  },
  {
   "cell_type": "code",
   "execution_count": 47,
   "metadata": {
    "id": "IKq2lwFk1BUM"
   },
   "outputs": [],
   "source": [
    "# !zip -r /content/abascal.zip /content/training_checkpoints"
   ]
  },
  {
   "cell_type": "markdown",
   "metadata": {
    "id": "Y4QwTjAM6A2O"
   },
   "source": [
    "## 6. Trabajo adicional\n",
    "\n",
    "Por ejempl, poner en cadena los tres modelos para que \"dialoguen\" entre sí"
   ]
  },
  {
   "cell_type": "markdown",
   "metadata": {
    "id": "MnONljl2y9-M"
   },
   "source": [
    "Guardamos el modelo"
   ]
  },
  {
   "cell_type": "code",
   "execution_count": 49,
   "metadata": {
    "colab": {
     "base_uri": "https://localhost:8080/"
    },
    "id": "9Uo5DvZpD7b5",
    "outputId": "f66171a6-b219-4e3c-a75c-52cca7470120"
   },
   "outputs": [
    {
     "name": "stdout",
     "output_type": "stream",
     "text": [
      "WARNING:tensorflow:Skipping full serialization of Keras layer <__main__.OneStep object at 0x0000022D0CF58690>, because it is not built.\n"
     ]
    },
    {
     "name": "stderr",
     "output_type": "stream",
     "text": [
      "WARNING:tensorflow:Skipping full serialization of Keras layer <__main__.OneStep object at 0x0000022D0CF58690>, because it is not built.\n"
     ]
    },
    {
     "name": "stdout",
     "output_type": "stream",
     "text": [
      "WARNING:tensorflow:Model's `__init__()` arguments contain non-serializable objects. Please implement a `get_config()` method in the subclassed Model for proper saving and loading. Defaulting to empty config.\n"
     ]
    },
    {
     "name": "stderr",
     "output_type": "stream",
     "text": [
      "WARNING:tensorflow:Model's `__init__()` arguments contain non-serializable objects. Please implement a `get_config()` method in the subclassed Model for proper saving and loading. Defaulting to empty config.\n"
     ]
    },
    {
     "name": "stdout",
     "output_type": "stream",
     "text": [
      "WARNING:tensorflow:Model's `__init__()` arguments contain non-serializable objects. Please implement a `get_config()` method in the subclassed Model for proper saving and loading. Defaulting to empty config.\n"
     ]
    },
    {
     "name": "stderr",
     "output_type": "stream",
     "text": [
      "WARNING:tensorflow:Model's `__init__()` arguments contain non-serializable objects. Please implement a `get_config()` method in the subclassed Model for proper saving and loading. Defaulting to empty config.\n"
     ]
    },
    {
     "name": "stdout",
     "output_type": "stream",
     "text": [
      "INFO:tensorflow:Assets written to: one_step_abascal_BORRAR\\assets\n"
     ]
    },
    {
     "name": "stderr",
     "output_type": "stream",
     "text": [
      "INFO:tensorflow:Assets written to: one_step_abascal_BORRAR\\assets\n"
     ]
    }
   ],
   "source": [
    "tf.saved_model.save(one_step_model, 'one_step_abascal')"
   ]
  },
  {
   "cell_type": "code",
   "execution_count": null,
   "metadata": {},
   "outputs": [],
   "source": []
  }
 ],
 "metadata": {
  "accelerator": "GPU",
  "colab": {
   "gpuType": "T4",
   "provenance": []
  },
  "kernelspec": {
   "display_name": "Python 3 (ipykernel)",
   "language": "python",
   "name": "python3"
  },
  "language_info": {
   "codemirror_mode": {
    "name": "ipython",
    "version": 3
   },
   "file_extension": ".py",
   "mimetype": "text/x-python",
   "name": "python",
   "nbconvert_exporter": "python",
   "pygments_lexer": "ipython3",
   "version": "3.11.5"
  },
  "vscode": {
   "interpreter": {
    "hash": "d53d9c447d15846ca7228ba81a89f63b35afa7d922a1ed0608df97a83621769d"
   }
  }
 },
 "nbformat": 4,
 "nbformat_minor": 4
}
